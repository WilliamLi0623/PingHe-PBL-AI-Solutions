{
  "nbformat": 4,
  "nbformat_minor": 0,
  "metadata": {
    "colab": {
      "name": "William Li - G10 2021 Fall Homework 1 - Variables and Expressions.ipynb",
      "provenance": [],
      "collapsed_sections": []
    },
    "kernelspec": {
      "name": "python3",
      "display_name": "Python 3"
    },
    "language_info": {
      "name": "python"
    }
  },
  "cells": [
    {
      "cell_type": "markdown",
      "metadata": {
        "id": "QYaOx6DzLtAP"
      },
      "source": [
        "# G10 2021 Fall Homework 1 - Variables and Expressions (50 pts)\n",
        "\n",
        "\n",
        "---\n",
        "\n"
      ]
    },
    {
      "cell_type": "markdown",
      "metadata": {
        "id": "tP3tn0j4NK_e"
      },
      "source": [
        "## **Sectuib 0: Prerequisites**"
      ]
    },
    {
      "cell_type": "markdown",
      "metadata": {
        "id": "VSXTWg1yNYWx"
      },
      "source": [
        "### Prerequisite 0.1\n",
        "Familiarize yourself with Google Colab, read the quick tutorial here: https://colab.research.google.com/notebooks/intro.ipynb#\n",
        "\n",
        "\n",
        "**Now, you may start your Journey into the world of Python :)**"
      ]
    },
    {
      "cell_type": "markdown",
      "metadata": {
        "id": "Ut3lsATMLdmg"
      },
      "source": [
        "## **Section 1: Basic Knowledge (10 pts)** \n"
      ]
    },
    {
      "cell_type": "markdown",
      "metadata": {
        "id": "HDSiel0bL-a7"
      },
      "source": [
        "### Question 1.1 - Print your name (5 pts)\n",
        "Assign your First Name to a variable, and then print that on the screen."
      ]
    },
    {
      "cell_type": "code",
      "metadata": {
        "id": "gyok58-ILmNd",
        "colab": {
          "base_uri": "https://localhost:8080/"
        },
        "outputId": "ca4a3ee7-1b78-4760-fb2c-cb91ded8e6fb"
      },
      "source": [
        "# Write your code here for Question 1.1\n",
        "\n",
        "name=\"Zetong\";\n",
        "print(name);"
      ],
      "execution_count": null,
      "outputs": [
        {
          "output_type": "stream",
          "name": "stdout",
          "text": [
            "Zetong\n"
          ]
        }
      ]
    },
    {
      "cell_type": "markdown",
      "metadata": {
        "id": "JZO-15iZLpnh"
      },
      "source": [
        "### Question 1.2 - Modify your name (5 pts)\n",
        "Modify the value of the previous variable into your Full Name, and then print that on the screen."
      ]
    },
    {
      "cell_type": "code",
      "metadata": {
        "id": "nA-fuMaVLvQ4",
        "colab": {
          "base_uri": "https://localhost:8080/"
        },
        "outputId": "22733014-6b04-4265-e448-7478fef73678"
      },
      "source": [
        "# Write your code here for Question 1.2\n",
        "name=\"Zetong Li\";\n",
        "print(name);\n"
      ],
      "execution_count": null,
      "outputs": [
        {
          "output_type": "stream",
          "name": "stdout",
          "text": [
            "Zetong Li\n"
          ]
        }
      ]
    },
    {
      "cell_type": "markdown",
      "metadata": {
        "id": "TRIIa1zuLzlF"
      },
      "source": [
        "## **Section 2: Variables and Expressions (40 pts)** "
      ]
    },
    {
      "cell_type": "markdown",
      "metadata": {
        "id": "6P_ebmPsPXvp"
      },
      "source": [
        "### Question 2.1 - User name and age (10 pts)\n",
        "Create a program that asks the user to enter their name and their age. Print out a message addressed to them that tells them the year that they will turn 100 years old."
      ]
    },
    {
      "cell_type": "code",
      "metadata": {
        "id": "zzlY7dbaPiuu",
        "colab": {
          "base_uri": "https://localhost:8080/"
        },
        "outputId": "dc61e86a-0749-4e39-be61-dd37f432d954"
      },
      "source": [
        "# Write your code here for Question 2.1\n",
        "print(\"Your name?\");\n",
        "name=input();\n",
        "print(\"Your age?\");\n",
        "age=int(input());\n",
        "year=2021+100-age;\n",
        "print(\"Your will be 100 years old in\",year,\",\",name,\".\");\n"
      ],
      "execution_count": null,
      "outputs": [
        {
          "output_type": "stream",
          "name": "stdout",
          "text": [
            "Your name?\n",
            "jason\n",
            "Your age?\n",
            "35\n",
            "Your age will be  135 after 100 years, jason .\n"
          ]
        }
      ]
    },
    {
      "cell_type": "markdown",
      "metadata": {
        "id": "4AZb2UYBL7ri"
      },
      "source": [
        "### Question 2.2 - Dividing 2 integers and finding both quotient and remainder (10 pts)\n",
        "In this part, you are asked to write a small program that\n",
        "* Ask for user inputs of 2 `int` number\n",
        "* Convert user inputs into `int` if necessary\n",
        "* Calculate both the quotient and remainder\n",
        "* Print out the result\n",
        "\n",
        "Example: `num1 = 5` and `num2 = 2`\n",
        "* Your program should print:\n",
        "\n",
        "`The quotient is: 2`\n",
        "\n",
        "`The remainder is: 1`"
      ]
    },
    {
      "cell_type": "code",
      "metadata": {
        "id": "S28Wd3w1L5Gl",
        "colab": {
          "base_uri": "https://localhost:8080/"
        },
        "outputId": "ae85fea8-594d-4252-9cdb-8d9f13398bb6"
      },
      "source": [
        "# Write your code here for Question 2.2\n",
        "\n",
        "##include<cstdio>\n",
        "#int main()\n",
        "#{\n",
        "#    int a,b;\n",
        "#    scanf(\"%d%d\",&a,&b);\n",
        "#    print(\"%d %d\\n\",a/b,a-b*(a/b));\n",
        "#    return 0;\n",
        "#}\n",
        "a=int(input());\n",
        "b=int(input());\n",
        "print(\"The quotient is: \",int(a/b));\n",
        "print(\"The remainder is: \",a-int(a/b)*b);"
      ],
      "execution_count": null,
      "outputs": [
        {
          "output_type": "stream",
          "name": "stdout",
          "text": [
            "7\n",
            "3\n",
            "The quotient is:  2\n",
            "The remainder is:  1\n"
          ]
        }
      ]
    },
    {
      "cell_type": "markdown",
      "metadata": {
        "id": "ONrj83HJMKOo"
      },
      "source": [
        "### Question 2.3 - Finding the volume of a sphere using Python (10 pts)\n",
        "A sphere is a solid ball in the 3-dimensional space. The volume $V$ of a sphere is given by:\n",
        "\n",
        "$V = \\frac{4}{3} \\pi r^3$\n",
        "\n",
        "In this question, write a program that ask user to input the radius of the sphere `r` and calculate the Volume.\n",
        "* Convert user inputs to `float`\n",
        "* Take $\\pi = 3.14$"
      ]
    },
    {
      "cell_type": "code",
      "metadata": {
        "id": "ETqjnz9UMIbP",
        "colab": {
          "base_uri": "https://localhost:8080/"
        },
        "outputId": "b856f3fd-b8c3-4f0a-cdde-69a99541b332"
      },
      "source": [
        "# Write your code here for Question 2.3\n",
        "import math\n",
        "from math import pow\n",
        "pi=3.14;\n",
        "r=(float(input()));\n",
        "print(4/3*pi*pow(r,3));"
      ],
      "execution_count": null,
      "outputs": [
        {
          "output_type": "stream",
          "name": "stdout",
          "text": [
            "1\n",
            "4.1866666666666665\n"
          ]
        }
      ]
    },
    {
      "cell_type": "markdown",
      "metadata": {
        "id": "YnWkJXVYTUim"
      },
      "source": [
        "### Question 2.4 - Write a program that asks the user for a temperature in Fahrenheit and prints out the same temperature in Celsius. (10 pts)\n",
        "\n",
        "The relationship between Fahrenheit and Celsius is:\n",
        "$$C = \\dfrac{5}{9} (F-32)$$\n",
        "\n",
        "In this question, write a program that ask user to input a temperature in Fahrenheit `f` and calculate the same temperature in Celsius. Print the result\n",
        "\n",
        "You need to first write the program in Pseudocode and then convert it into real Python code"
      ]
    },
    {
      "cell_type": "code",
      "metadata": {
        "id": "tKaygvmzTeFW",
        "colab": {
          "base_uri": "https://localhost:8080/"
        },
        "outputId": "a0413aa9-568d-4484-95bd-9fd764835df9"
      },
      "source": [
        "# Write your code here for Question 2.4\n",
        "\n",
        "'''\n",
        "Pseudocode begin\n",
        "#include<cstdio>\n",
        "int main()\n",
        "{\n",
        "  int f;\n",
        "  scanf(\"%d\",&f);\n",
        "  printf(\"%.4lf\\n\",double(5/9)*(f-32));\n",
        "  return 0;\n",
        "}\n",
        "Pseudocode end\n",
        "'''\n",
        "\n",
        "f=float(input());\n",
        "print(5/9*(f-32));"
      ],
      "execution_count": null,
      "outputs": [
        {
          "output_type": "stream",
          "name": "stdout",
          "text": [
            "60\n",
            "15.555555555555557\n"
          ]
        }
      ]
    }
  ]
}