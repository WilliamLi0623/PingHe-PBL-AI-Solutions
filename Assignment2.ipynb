{
  "nbformat": 4,
  "nbformat_minor": 0,
  "metadata": {
    "colab": {
      "name": "William Li - G10 2021 Fall Homework 2 - Control Flows.ipynb",
      "provenance": [],
      "collapsed_sections": []
    },
    "kernelspec": {
      "name": "python3",
      "display_name": "Python 3"
    },
    "language_info": {
      "name": "python"
    }
  },
  "cells": [
    {
      "cell_type": "markdown",
      "metadata": {
        "id": "QYaOx6DzLtAP"
      },
      "source": [
        "# G10 2021 Fall Homework 2 - Control Flows (60 pts)\n",
        "\n",
        "\n",
        "---\n",
        "\n"
      ]
    },
    {
      "cell_type": "markdown",
      "metadata": {
        "id": "HDSiel0bL-a7"
      },
      "source": [
        "### Question 1 - Your First for-loop (10 pts)\n",
        "Write a for loop to print 3 lines of \"Hello\""
      ]
    },
    {
      "cell_type": "code",
      "metadata": {
        "id": "gyok58-ILmNd",
        "colab": {
          "base_uri": "https://localhost:8080/"
        },
        "outputId": "c5162501-93fb-4290-c483-4283d5690372"
      },
      "source": [
        "# Write your code here for Question 1\n",
        "\n",
        "for i in range (3):\n",
        "  print(\"Hello\");"
      ],
      "execution_count": null,
      "outputs": [
        {
          "output_type": "stream",
          "name": "stdout",
          "text": [
            "Hello\n",
            "Hello\n",
            "Hello\n"
          ]
        }
      ]
    },
    {
      "cell_type": "markdown",
      "metadata": {
        "id": "gq0VC9KQQ3dC"
      },
      "source": [
        "### Question 2 - Your Second for-loop (10 pts)\n",
        "Write a program in the file liftoff.py that prints out the calls for a spaceship that is about to launch. Countdown the numbers from 10 to 1 and then write “Liftoff!” Your program should include a **for** loop using **range**. A sample run of the program is below.\n",
        "\n",
        "\n",
        "\n",
        "```\n",
        "10\n",
        "9\n",
        "8\n",
        "7\n",
        "6\n",
        "5\n",
        "4\n",
        "3\n",
        "2\n",
        "1\n",
        "Liftoff!\n",
        "```\n",
        "\n"
      ]
    },
    {
      "cell_type": "code",
      "metadata": {
        "id": "ywmtxbnUQ3dH",
        "colab": {
          "base_uri": "https://localhost:8080/"
        },
        "outputId": "3639a243-26d8-48fc-95ac-d5fb90132335"
      },
      "source": [
        "# Write your code here for Question 2\n",
        "\n",
        "for i in range (10,0,-1):\n",
        "  print(i);\n",
        "print(\"Liftoff\");"
      ],
      "execution_count": null,
      "outputs": [
        {
          "output_type": "stream",
          "name": "stdout",
          "text": [
            "10\n",
            "9\n",
            "8\n",
            "7\n",
            "6\n",
            "5\n",
            "4\n",
            "3\n",
            "2\n",
            "1\n",
            "Liftoff\n"
          ]
        }
      ]
    },
    {
      "cell_type": "markdown",
      "metadata": {
        "id": "JZO-15iZLpnh"
      },
      "source": [
        "### Question 3 - Your Third for-loop (10 pts)\n",
        "Write a for loop to print all multiples of 7 from 1, 2, ..., 100"
      ]
    },
    {
      "cell_type": "code",
      "metadata": {
        "id": "nA-fuMaVLvQ4",
        "colab": {
          "base_uri": "https://localhost:8080/"
        },
        "outputId": "1931cabb-c518-4733-b65e-dfe24a9071e4"
      },
      "source": [
        "# Write your code here for Question 3\n",
        "for i in range (7,100,7):\n",
        "  print(i);\n"
      ],
      "execution_count": null,
      "outputs": [
        {
          "output_type": "stream",
          "name": "stdout",
          "text": [
            "7\n",
            "14\n",
            "21\n",
            "28\n",
            "35\n",
            "42\n",
            "49\n",
            "56\n",
            "63\n",
            "70\n",
            "77\n",
            "84\n",
            "91\n",
            "98\n"
          ]
        }
      ]
    },
    {
      "cell_type": "markdown",
      "metadata": {
        "id": "6P_ebmPsPXvp"
      },
      "source": [
        "### Question 4 - If statements (10 pts)\n",
        "Write a program that:\n",
        "* Ask the user to input an integer (you can assume that the user actually enters an integer)\n",
        "* Check whether the integer is\n",
        "    - positive\n",
        "    - zero\n",
        "    - negative\n",
        "* Print the result back to the user"
      ]
    },
    {
      "cell_type": "code",
      "metadata": {
        "id": "zzlY7dbaPiuu",
        "colab": {
          "base_uri": "https://localhost:8080/"
        },
        "outputId": "3b0479df-e294-4b91-d097-f10b7f9e4d56"
      },
      "source": [
        "# Write your code here for Question 4\n",
        "a=int(input());\n",
        "if(not a): print(\"zero\");\n",
        "elif (a>0): print(\"positive\");\n",
        "else: print(\"negative\");\n"
      ],
      "execution_count": null,
      "outputs": [
        {
          "output_type": "stream",
          "name": "stdout",
          "text": [
            "-123\n",
            "negative\n"
          ]
        }
      ]
    },
    {
      "cell_type": "markdown",
      "metadata": {
        "id": "sdKeSay2RiCW"
      },
      "source": [
        "### Question 5 - Moon Weight (10 pts)\n",
        "Humans first landed on the moon on July 20, 1969. People have often wondered how much they would weigh if they were on the moon. It turns out that on the moon, you would weigh **16.5%** of your weight on Earth.\n",
        "\n",
        "Write a program that asks the user for their weight (you can assume is a real-valued input is given by the user) and prints out their weight on the moon. If the user enters a negative value (yes, they’re being mean and trying to break your program), you should just print out that weights can’t be negative. Remember when writing your solution, that it’s good programming style to use **constants** where appropriate. Two sample runs of the program are shown below (user input is in *italics*).\n",
        "\n",
        "Sample run 1 (note the imprecision of floating-point numbers in the answer)\n",
        "\n",
        "```\n",
        "Enter your weight: 165.3\n",
        "Your weight on the moon is 27.274500000000003\n",
        "```\n",
        "\n",
        "Sample run 2\n",
        "\n",
        "```\n",
        "Enter your weight: -13\n",
        "Sorry, you can't have a negative weight.\n",
        "```\n",
        "\n",
        "\n",
        "\n"
      ]
    },
    {
      "cell_type": "code",
      "metadata": {
        "id": "kYirGKnqRiCX",
        "colab": {
          "base_uri": "https://localhost:8080/"
        },
        "outputId": "83fc1751-c86b-4ec4-ce7d-625d64c412ef"
      },
      "source": [
        "# Write your code here for Question 5\n",
        "k=0.165;\n",
        "print(\"Enter your weight: \",end=\"\");\n",
        "a=float(input());\n",
        "if(a<=0): print(\"Sorry, you can't have a negative weight.\");\n",
        "else: print(a*k);"
      ],
      "execution_count": null,
      "outputs": [
        {
          "output_type": "stream",
          "name": "stdout",
          "text": [
            "Enter your weight: 165.3\n",
            "27.274500000000003\n"
          ]
        }
      ]
    },
    {
      "cell_type": "markdown",
      "metadata": {
        "id": "rwwXupT2SoYK"
      },
      "source": [
        "### Question 6 - Sentinel Loops (10 pts)\n",
        "**Sentinel:** A value that signals the end of user input.\n",
        "\n",
        "Write a program that prompts the user for numbers until users type -1, then output the total of the numbers.\n",
        "In this case, -1 is the **sentinel value**.\n",
        "\n",
        "Sample run 1\n",
        "\n",
        "```\n",
        "Type a number: 10\n",
        "Type a number: 20\n",
        "Type a number: 30\n",
        "Type a number: -1\n",
        "total is 60\n",
        "\n",
        "```\n",
        "\n",
        "\n",
        "\n"
      ]
    },
    {
      "cell_type": "code",
      "metadata": {
        "id": "6xIWkWpiSoYO",
        "colab": {
          "base_uri": "https://localhost:8080/"
        },
        "outputId": "4e56ac2f-b420-4166-f436-6159960765a4"
      },
      "source": [
        "# Write your code here for Question 6\n",
        "#cpp version\n",
        "#include<cstdio>\n",
        "#int main()\n",
        "#{int a=0,ans=0;while(~scanf(\"%d\",&a)) ans+=a;printf(\"%d\\n\",1+ans);return 0;}\n",
        "ans=0\n",
        "while 1:\n",
        "  a=int(input());\n",
        "  if(a+1):ans+=a;\n",
        "  else:break;\n",
        "print(ans);"
      ],
      "execution_count": null,
      "outputs": [
        {
          "output_type": "stream",
          "name": "stdout",
          "text": [
            "1\n",
            "2\n",
            "3\n",
            "4\n",
            "-1\n",
            "10\n"
          ]
        }
      ]
    }
  ]
}