{
  "nbformat": 4,
  "nbformat_minor": 0,
  "metadata": {
    "colab": {
      "name": "William Li - G10 2021 Fall Homework 3 - Functions.ipynb",
      "provenance": [],
      "collapsed_sections": []
    },
    "kernelspec": {
      "name": "python3",
      "display_name": "Python 3"
    },
    "language_info": {
      "name": "python"
    }
  },
  "cells": [
    {
      "cell_type": "markdown",
      "metadata": {
        "id": "QYaOx6DzLtAP"
      },
      "source": [
        "# G10 2021 Fall Homework 3 - Functions (40 pts)\n",
        "\n",
        "\n",
        "---\n",
        "\n"
      ]
    },
    {
      "cell_type": "markdown",
      "metadata": {
        "id": "EHAiCNvPjZhQ"
      },
      "source": [
        "## Question 1 (10 pts)\n",
        "Write a function that **returns** the Max of three numbers\n",
        "\n",
        "1.   Complete the code for the function in the 1st cell. (Don't forget to run the cell before testing in 2nd cell)\n",
        "2.   Run the 2nd cell to test your function. And you should get:\n",
        "\n",
        "```\n",
        ">>>print(max_three_numbers(1, 2, 3))\n",
        "3\n",
        ">>>print(max_three_numbers(1, 3, 2))\n",
        "3\n",
        ">>>print(max_three_numbers(3, 2, 1))\n",
        "3\n",
        "```"
      ]
    },
    {
      "cell_type": "code",
      "metadata": {
        "cellView": "code",
        "id": "puJQ6T5OPw4U"
      },
      "source": [
        "# Define the function here, it has three inputs\n",
        "def max_three_numbers(a, b, c):\n",
        "  return max(max(a,b),c);\n",
        "\n",
        "\n"
      ],
      "execution_count": null,
      "outputs": []
    },
    {
      "cell_type": "code",
      "metadata": {
        "id": "14e9p6nQjZhS",
        "colab": {
          "base_uri": "https://localhost:8080/"
        },
        "outputId": "893d88ab-9cea-46a9-f243-5d85497e43a5"
      },
      "source": [
        "# DON'T CHANGE ANYTHING HERE\n",
        "# Just run the cell to test your function\n",
        "\n",
        "print(max_three_numbers(1, 2, 3))\n",
        "print(max_three_numbers(1, 3, 2))\n",
        "print(max_three_numbers(3, 2, 1))"
      ],
      "execution_count": null,
      "outputs": [
        {
          "output_type": "stream",
          "name": "stdout",
          "text": [
            "3\n",
            "3\n",
            "3\n"
          ]
        }
      ]
    },
    {
      "cell_type": "markdown",
      "metadata": {
        "id": "K_CYifBcjZhS"
      },
      "source": [
        "## Question 2 (10 pts)\n",
        "* Define a function called `factorial()`, that takes as input a non-negative integer and **returns** its factorial\n",
        "\n",
        "$$n! = n*(n-1)*\\cdots*1$$\n",
        "* Notice that\n",
        "\n",
        "$$0! = 1$$\n",
        "\n",
        "* Then print the factorials from 0, 1, ... to 10\n",
        "    * Your output should look like this:\n",
        "    ```\n",
        "    0, 1\n",
        "    1, 1\n",
        "    2, 2\n",
        "    ...\n",
        "    10, 3628800\n",
        "    ```\n"
      ]
    },
    {
      "cell_type": "code",
      "metadata": {
        "cellView": "code",
        "id": "LHJ7MZqRjZhT"
      },
      "source": [
        "# Define the function of factorial here\n",
        "\n",
        "def factorial(n):\n",
        "  if(not n): return 1;\n",
        "  else: return n*factorial(n-1);\n"
      ],
      "execution_count": null,
      "outputs": []
    },
    {
      "cell_type": "code",
      "metadata": {
        "id": "ZpkiOERJjZhT",
        "colab": {
          "base_uri": "https://localhost:8080/"
        },
        "outputId": "55b604ee-d1dd-4729-8367-2d3cab764711"
      },
      "source": [
        "# Print the factorials from 0, 1, ... to 10\n",
        "\n",
        "\n",
        "for i in range (0,11,1):\n",
        "  print(factorial(i));"
      ],
      "execution_count": null,
      "outputs": [
        {
          "output_type": "stream",
          "name": "stdout",
          "text": [
            "1\n",
            "1\n",
            "2\n",
            "6\n",
            "24\n",
            "120\n",
            "720\n",
            "5040\n",
            "40320\n",
            "362880\n",
            "3628800\n"
          ]
        }
      ]
    },
    {
      "cell_type": "markdown",
      "metadata": {
        "id": "NlofI0D9jZhT"
      },
      "source": [
        "## Question 3 (10 pts)\n",
        "Write a Python function to check whether a number is perfect or not.\n",
        "* According to Wikipedia : In number theory, a perfect number is a positive integer that is equal to the sum of its proper positive divisors, that is, the sum of its positive divisors excluding the number itself (also known as its aliquot sum). Equivalently, a perfect number is a number that is half the sum of all of its positive divisors (including itself).\n",
        "* Example : The first perfect number is 6, because 1, 2, and 3 are its proper positive divisors, and 1 + 2 + 3 = 6. Equivalently, the number 6 is equal to half the sum of all its positive divisors: ( 1 + 2 + 3 + 6 ) / 2 = 6. The next perfect number is 28 = 1 + 2 + 4 + 7 + 14. This is followed by the perfect numbers 496 and 8128."
      ]
    },
    {
      "cell_type": "code",
      "metadata": {
        "cellView": "code",
        "id": "663ng8ZbjZhU"
      },
      "source": [
        "# Define the function here\n",
        "def isperfect(n):\n",
        "  denominators=[];tmp=0;\n",
        "  for i in range(1,n,1):\n",
        "    if(not n%i): denominators.append(i);\n",
        "  for i in range(0,len(denominators),1):tmp+=denominators[i];\n",
        "  if(not tmp-n): print(\"Y\");\n",
        "  else: print(\"N\");\n",
        "\n"
      ],
      "execution_count": null,
      "outputs": []
    },
    {
      "cell_type": "code",
      "metadata": {
        "id": "HJlhDpU7jZhU",
        "colab": {
          "base_uri": "https://localhost:8080/"
        },
        "outputId": "f3dc4af8-2327-468c-da95-5281632b977c"
      },
      "source": [
        "# Test your function here\n",
        "isperfect(8128);\n",
        "\n"
      ],
      "execution_count": null,
      "outputs": [
        {
          "output_type": "stream",
          "name": "stdout",
          "text": [
            "Y\n"
          ]
        }
      ]
    },
    {
      "cell_type": "markdown",
      "metadata": {
        "id": "r6ohhFJOl06-"
      },
      "source": [
        "## Question 4 - Finding factors (10 pts)\n",
        "\n",
        "Implement a function that **prints** out all the factors of the given number (you can assume the input is an integer but not neccesarily positive), one by one. Your function should check that the en|tered number is greater than 0. \n",
        "\n",
        "1.   Complete the code for the function in the 1st cell. (Don't forget to run the cell before testing in 2nd cell)\n",
        "2.   Run the 2nd cell to test your function. And you should get:\n",
        "\n",
        "```\n",
        ">>> f(42)\n",
        "1\n",
        "2\n",
        "3\n",
        "6\n",
        "7\n",
        "14\n",
        "21\n",
        "42\n",
        ">>> f(53)\n",
        "1\n",
        "53\n",
        ">>> f(0)\n",
        "Input should be a positive integer, please try again.\n",
        "```"
      ]
    },
    {
      "cell_type": "code",
      "metadata": {
        "id": "QCM9YAVFl7_x"
      },
      "source": [
        "# Write your code here for Question 2.2\n",
        "# Define the function here, it has 1 input\n",
        "def f(n):\n",
        "  if(n<=0): print(\"Input should be a positive integer, please try again.\");return;\n",
        "  for i in range(1,n,1):\n",
        "    if(not n%i): print(i);\n",
        "  print(n);\n"
      ],
      "execution_count": null,
      "outputs": []
    },
    {
      "cell_type": "code",
      "metadata": {
        "id": "lbpj5KJBl8qd",
        "colab": {
          "base_uri": "https://localhost:8080/"
        },
        "outputId": "ffced30f-9b6a-463c-d342-1a24d024078d"
      },
      "source": [
        "# DON'T CHANGE ANYTHING HERE\n",
        "# Just run the cell to test your function\n",
        "\n",
        "f(42)\n",
        "f(53)\n",
        "f(0)"
      ],
      "execution_count": null,
      "outputs": [
        {
          "output_type": "stream",
          "name": "stdout",
          "text": [
            "1\n",
            "2\n",
            "3\n",
            "6\n",
            "7\n",
            "14\n",
            "21\n",
            "42\n",
            "1\n",
            "53\n",
            "Input should be a positive integer, please try again.\n"
          ]
        }
      ]
    },
    {
      "cell_type": "markdown",
      "metadata": {
        "id": "aEPQi8FZjZhV"
      },
      "source": [
        "## (Optional) Question 5 - (Bonus 10 pts)\n",
        "Write a Python function that **prints** out the first n rows of Pascal's triangle.\n",
        "* Sample Pascal's triangle :\n",
        "![image.png](https://i.loli.net/2020/07/22/bQ92VpZrlkSFasL.png)\n",
        "* Each number is the two numbers above it added together\n",
        "\n",
        "**NOTE:** This question is for those who would like some more challenges. Points will be added to the total grade until maximum amount of points are reached. (Maximum grade you can obtain for this assignment is 40) "
      ]
    },
    {
      "cell_type": "code",
      "metadata": {
        "cellView": "code",
        "id": "dbKwY781jZhV"
      },
      "source": [
        "# Define the function here\n",
        "def solvepascaltriangle(n):\n",
        "  triangle=[[0 for i in range(99)] for j in range(99)];\n",
        "  for i in range(1,n+1,1):\n",
        "    for j in range(1,i+1,1):\n",
        "      if(i==1 or j==1 or j==i):triangle[i][j]=1;\n",
        "      else:triangle[i][j]=(triangle[i-1][j-1]+triangle[i-1][j]);\n",
        "  for i in range(1,n+1,1):\n",
        "    for j in range(0,int((2*n-1-(2*i-1))/2),1):print(\" \",end=\"\");\n",
        "    for j in range(1,i+1,1):print(triangle[i][j],end=\" \");\n",
        "    print(\"\\n\");\n",
        "\n",
        "\n"
      ],
      "execution_count": null,
      "outputs": []
    },
    {
      "cell_type": "code",
      "metadata": {
        "id": "kpeY5CVAjZhV",
        "colab": {
          "base_uri": "https://localhost:8080/"
        },
        "outputId": "602fabc1-c8f7-4f27-ac19-8c6222b5ddd1"
      },
      "source": [
        "# Test your function here\n",
        "solvepascaltriangle(5);\n",
        "\n"
      ],
      "execution_count": null,
      "outputs": [
        {
          "output_type": "stream",
          "name": "stdout",
          "text": [
            "    1 \n",
            "\n",
            "   1 1 \n",
            "\n",
            "  1 2 1 \n",
            "\n",
            " 1 3 3 1 \n",
            "\n",
            "1 4 6 4 1 \n",
            "\n"
          ]
        }
      ]
    }
  ]
}