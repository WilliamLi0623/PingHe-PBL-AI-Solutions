{
  "nbformat": 4,
  "nbformat_minor": 0,
  "metadata": {
    "colab": {
      "name": "William Li - Assignment 7 Python Dictionaries.ipynb",
      "provenance": [],
      "collapsed_sections": []
    },
    "kernelspec": {
      "name": "python3",
      "display_name": "Python 3"
    },
    "language_info": {
      "name": "python"
    }
  },
  "cells": [
    {
      "cell_type": "markdown",
      "metadata": {
        "id": "4F3IZgSDP3nb"
      },
      "source": [
        "# Python Assignment 7 - Dictionaries\n"
      ]
    },
    {
      "cell_type": "markdown",
      "metadata": {
        "id": "naBOes6iOz4z"
      },
      "source": [
        "## Question 1 (10 pts)\n",
        "Write a **loop** to construct a dictionary where the keys are numbers between 1 and 15 (both included) and the values are square of keys.\n",
        "\n",
        "Your output should look like this:\n",
        "`{1: 1, 2: 4, 3: 9, 4: 16, 5: 25, 6: 36, 7: 49, 8: 64, 9: 81, 10: 100, 11: 121, 12: 144, 13: 169, 14: 196, 15: 225}`"
      ]
    },
    {
      "cell_type": "code",
      "metadata": {
        "id": "FX-uXXG2Oz40"
      },
      "source": [
        "# Construct your dictionary here\n",
        "# Write a loop to accomplish this\n",
        "dictionary ={};\n",
        "for i in range(1,15,1):\n",
        "  dictionary[i]=i*i;\n",
        "\n",
        "\n"
      ],
      "execution_count": 2,
      "outputs": []
    },
    {
      "cell_type": "code",
      "metadata": {
        "id": "TACGpkKxOz41",
        "colab": {
          "base_uri": "https://localhost:8080/"
        },
        "outputId": "41ae8da4-4c9d-4031-8c37-663e06005d69"
      },
      "source": [
        "# You don't have to do anything here\n",
        "# Just run the cell\n",
        "# print your dictionary\n",
        "\n",
        "print(dictionary)"
      ],
      "execution_count": 3,
      "outputs": [
        {
          "output_type": "stream",
          "name": "stdout",
          "text": [
            "{1: 1, 2: 4, 3: 9, 4: 16, 5: 25, 6: 36, 7: 49, 8: 64, 9: 81, 10: 100, 11: 121, 12: 144, 13: 169, 14: 196}\n"
          ]
        }
      ]
    },
    {
      "cell_type": "code",
      "source": [
        ""
      ],
      "metadata": {
        "id": "my1jNYPWCKUo"
      },
      "execution_count": null,
      "outputs": []
    },
    {
      "cell_type": "markdown",
      "metadata": {
        "id": "xQaAhOqlOz41"
      },
      "source": [
        "## Question 2 (10 pts)\n",
        "\n",
        "Write a Python script to concatenate following dictionaries to create a new one.\n",
        "\n",
        "Sample Dictionary:\n",
        "\n",
        "`dic1={1:10, 2:20}\n",
        "dic2={3:30, 4:40}\n",
        "dic3={5:50, 6:60}`\n",
        "\n",
        "Expected Result:\n",
        "\n",
        "`{1: 10, 2: 20, 3: 30, 4: 40, 5: 50, 6: 60}`\n",
        "\n",
        "**Your Method Should Work for All Dictionaries**"
      ]
    },
    {
      "cell_type": "code",
      "metadata": {
        "id": "Ra1FPrgoOz42"
      },
      "source": [
        "# Sample Dictionaries:\n",
        "\n",
        "dic1={1:10, 2:20}\n",
        "dic2={3:30, 4:40}\n",
        "dic3={5:50, 6:60}"
      ],
      "execution_count": 4,
      "outputs": []
    },
    {
      "cell_type": "code",
      "metadata": {
        "id": "Qawzv4OFOz42"
      },
      "source": [
        "# Construct your dictionary here\n",
        "dictionary = {};\n",
        "for key in dic1:\n",
        "  dictionary[key]=dic1[key];\n",
        "for key in dic2:\n",
        "  dictionary[key]=dic2[key];\n",
        "for key in dic3:\n",
        "  dictionary[key]=dic3[key];\n"
      ],
      "execution_count": 5,
      "outputs": []
    },
    {
      "cell_type": "code",
      "metadata": {
        "id": "Pd40CVSAOz43",
        "colab": {
          "base_uri": "https://localhost:8080/"
        },
        "outputId": "76ccea7b-0ffd-4ec1-8786-45d7203ced9d"
      },
      "source": [
        "# You don't have to do anything here\n",
        "# Just run the cell\n",
        "# print your dictionary\n",
        "\n",
        "print(dictionary)"
      ],
      "execution_count": 6,
      "outputs": [
        {
          "output_type": "stream",
          "name": "stdout",
          "text": [
            "{1: 10, 2: 20, 3: 30, 4: 40, 5: 50, 6: 60}\n"
          ]
        }
      ]
    },
    {
      "cell_type": "markdown",
      "metadata": {
        "id": "GkjaHzAoOz43"
      },
      "source": [
        "## Question 3 (10 pts)\n",
        "In this problem you are given two lists: `store_list` records the places at which you spent your credit card. `amount_list` stores the amount you spent. These two lists are of same length and the same index refers to the same purchase.\n",
        "\n",
        "Write a program to print to the screen the total amount that was purchased at each store on the\n",
        "bill. Your output should look like this\n",
        "\n",
        "`\n",
        "Shake Shack: $16\n",
        "Grocery Hut: $293\n",
        "Ace Hardware: $14\n",
        "Joan's Fabric: $18\n",
        "Nom Nom Nom: $12\n",
        "`\n",
        "\n",
        "**Hint: using dictionaries would be a really good way to solve this problem!**"
      ]
    },
    {
      "cell_type": "code",
      "metadata": {
        "cellView": "code",
        "id": "puJQ6T5OPw4U"
      },
      "source": [
        "# Run this cell first, but do not change anything\n",
        "store_list = ['Shake Shack', 'Grocery Hut', 'Grocery Hut', 'Ace Hardware', 'Grocery Hut',\n",
        "              \"Joan's Fabric\", 'Nom Nom Nom',  'Grocery Hut', 'Shake Shack']\n",
        "amount_list = [9, 82, 117, 14, 65, 18, 12, 29, 7]"
      ],
      "execution_count": 7,
      "outputs": []
    },
    {
      "cell_type": "code",
      "metadata": {
        "id": "J_4NX9MYOz44"
      },
      "source": [
        "# Write your code for Question 3 here\n",
        "dic={};\n",
        "for i in range(len(store_list)):\n",
        "  if(dic.get(store_list[i])!=None):\n",
        "    dic[store_list[i]]+=amount_list[i];\n",
        "  else:\n",
        "    dic[store_list[i]]=amount_list[i];\n",
        "\n",
        "\n",
        "\n"
      ],
      "execution_count": 16,
      "outputs": []
    },
    {
      "cell_type": "code",
      "metadata": {
        "id": "_R8hzGhHOz45",
        "colab": {
          "base_uri": "https://localhost:8080/"
        },
        "outputId": "c4b41df6-b47b-414e-aca4-21d68bc3c9d0"
      },
      "source": [
        "# Print Your Result here\n",
        "print(dic);\n",
        "\n",
        "\n"
      ],
      "execution_count": 17,
      "outputs": [
        {
          "output_type": "stream",
          "name": "stdout",
          "text": [
            "{'Shake Shack': 16, 'Grocery Hut': 293, 'Ace Hardware': 14, \"Joan's Fabric\": 18, 'Nom Nom Nom': 12}\n"
          ]
        }
      ]
    }
  ]
}