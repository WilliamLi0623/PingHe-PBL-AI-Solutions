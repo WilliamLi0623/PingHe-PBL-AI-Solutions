{
  "nbformat": 4,
  "nbformat_minor": 0,
  "metadata": {
    "colab": {
      "name": "William Li - G10 2021 Fall Homework 4 - Lists.ipynb",
      "provenance": [],
      "collapsed_sections": []
    },
    "kernelspec": {
      "name": "python3",
      "display_name": "Python 3"
    },
    "language_info": {
      "name": "python"
    }
  },
  "cells": [
    {
      "cell_type": "markdown",
      "metadata": {
        "id": "QYaOx6DzLtAP"
      },
      "source": [
        "# G10 2021 Fall Homework 4 - Lists (35 pts)\n",
        "\n",
        "\n",
        "---\n",
        "\n"
      ]
    },
    {
      "cell_type": "markdown",
      "metadata": {
        "id": "jiqgcfLGmAgs"
      },
      "source": [
        "## Question 1 - “Sandcastle” (warm-up) problem (10 pts)\n",
        "You should write a function called `greater_than_10` that\n",
        "is passed a list of integers and returns a new list which contains only the numbers greater\n",
        "than 10 from the original list passed in. For example, if your function was called as follows:\n",
        "\n",
        "`greater_than_10([20, 6, 12, -3, 14])`\n",
        "\n",
        "then it should return the new list:\n",
        "\n",
        "`[20, 12, 14]`\n",
        "\n",
        "If your function is called with the empty list (or a list that does not contain any values\n",
        "greater than 10), as follows:\n",
        "\n",
        "`greater_than_10([])`\n",
        "\n",
        "then it should return a new empty list:\n",
        "\n",
        "`[]`"
      ]
    },
    {
      "cell_type": "code",
      "metadata": {
        "cellView": "code",
        "id": "puJQ6T5OPw4U"
      },
      "source": [
        "# Define the function greater_than_10 here\n",
        "\n",
        "def greater_than_10(num_list):\n",
        "    \"\"\"\n",
        "    This function is passed a list of integers (num_list) and should\n",
        "    return a list containing only those numbers from num_list that\n",
        "    have a value greater than 10.\n",
        "    \"\"\"\n",
        "    new_list=[];\n",
        "    for i in range(len(num_list)):\n",
        "      if(num_list[i]>10):\n",
        "        new_list.append(num_list[i]);\n",
        "    return new_list;\n"
      ],
      "execution_count": null,
      "outputs": []
    },
    {
      "cell_type": "code",
      "metadata": {
        "id": "GSPYD_jtmAgu",
        "colab": {
          "base_uri": "https://localhost:8080/"
        },
        "outputId": "c6a1f006-5ee1-435f-b4b5-bab2c1de2243"
      },
      "source": [
        "# Test your function here\n",
        "# Don't change anything here\n",
        "\n",
        "list1 = [20, 6, 12, -3, 14]\n",
        "result_list = greater_than_10(list1)\n",
        "print(result_list)      # should print [20, 12, 14]\n",
        "\n",
        "list2 = [16]\n",
        "result_list = greater_than_10(list2)\n",
        "print(result_list)      # should print [16]\n",
        "\n",
        "list3 = [1, 2, 3, 4]\n",
        "result_list = greater_than_10(list3)\n",
        "print(result_list)      # should print []\n",
        "\n",
        "list4 = []\n",
        "result_list = greater_than_10(list4)\n",
        "print(result_list)      # should print []"
      ],
      "execution_count": null,
      "outputs": [
        {
          "output_type": "stream",
          "name": "stdout",
          "text": [
            "[20, 12, 14]\n",
            "[16]\n",
            "[]\n",
            "[]\n"
          ]
        }
      ]
    },
    {
      "cell_type": "markdown",
      "metadata": {
        "id": "0ISKLZ3KmAgv"
      },
      "source": [
        "## Question 2 - Reading values into a list and removing duplicates (15 pts)\n",
        "In this program you should implement two functions. The first, called\n",
        "`read_list()` , asks the user for a series of integers until the user enters 0 to stop. The\n",
        "integers entered by the user (not including the final 0) should be stored in a list that the\n",
        "function should then return. Here is a sample run of the user entering values (user’s inputs\n",
        "are in italics) and what the function should return (internally) in the program:\n",
        "\n",
        "```\n",
        "Enter value (0 to stop): 5\n",
        "Enter value (0 to stop): 3\n",
        "Enter value (0 to stop): 6\n",
        "Enter value (0 to stop): 2\n",
        "Enter value (0 to stop): 7\n",
        "Enter value (0 to stop): 6\n",
        "Enter value (0 to stop): 3\n",
        "Enter value (0 to stop): 3\n",
        "Enter value (0 to stop): 0\n",
        "```\n",
        "\n",
        "If the user entered the values above, the function should return the list:\n",
        "`[5, 3, 6, 2, 7, 6, 3, 3]`\n",
        "\n",
        "The second function you should write is called\n",
        "`remove_duplicates(num_list)` . This function is passed a list of integers\n",
        "( `num_list` ) and it should create and return a new list which does not include any duplicate\n",
        "values from the original list passed in. The original list passed into the function\n",
        "( `num_list` ) should not be changed. For example, calling:\n",
        "\n",
        "`remove_duplicates([5, 3, 6, 2, 7, 6, 3, 3])`\n",
        "\n",
        "should return the following new list:\n",
        "\n",
        "`[5, 3, 6, 2, 7]`\n",
        "\n",
        "If your function is called with the empty list, as follows:\n",
        "\n",
        "`remove_duplicates([])`\n",
        "\n",
        "then it should return a new empty list:\n",
        "\n",
        "`[]`"
      ]
    },
    {
      "cell_type": "code",
      "metadata": {
        "cellView": "code",
        "id": "09eoJ8jgmAgw"
      },
      "source": [
        "# Define the function read_list here\n",
        "\n",
        "def read_list():\n",
        "    \"\"\"\n",
        "    This function should ask the user for a series of integer values\n",
        "    (until the user enters 0 to stop) and store all those values in a\n",
        "    list.  That list should then be returned by this function.\n",
        "    \"\"\"\n",
        "    lst=[];\n",
        "    while 1:\n",
        "      print(\"Enter value (0 to stop):\");\n",
        "      a=int(input());\n",
        "      if(a): lst.append(a);\n",
        "      else: break;\n",
        "    return lst;\n"
      ],
      "execution_count": null,
      "outputs": []
    },
    {
      "cell_type": "code",
      "metadata": {
        "id": "-XNMUDsGmAgx"
      },
      "source": [
        "# Define the function remove_duplicates here\n",
        "\n",
        "def remove_duplicates(num_list):\n",
        "    \"\"\"\n",
        "    This function is passed a list of integers and returns a new\n",
        "    list with all duplicate values from the original list remove.\n",
        "    \"\"\"\n",
        "    tmp=[];\n",
        "    for i in range(len(num_list)):\n",
        "      flag=1;\n",
        "      for j in range(len(tmp)):\n",
        "        if(num_list[i]==tmp[j]): flag=0;break;\n",
        "      if(flag):tmp.append(num_list[i]);\n",
        "    return tmp;\n"
      ],
      "execution_count": null,
      "outputs": []
    },
    {
      "cell_type": "code",
      "metadata": {
        "id": "eg0e7XqRmAgx",
        "colab": {
          "base_uri": "https://localhost:8080/"
        },
        "outputId": "1e7df55c-9234-4ffd-839d-9d9f055ca5cf"
      },
      "source": [
        "3# Test your function here\n",
        "\n",
        "num_list = read_list()\n",
        "print(\"Original list entered by user: \")\n",
        "print(num_list)\n",
        "\n",
        "no_duplicates = remove_duplicates(num_list)\n",
        "print(\"List with duplicates removed: \")\n",
        "print(no_duplicates)"
      ],
      "execution_count": null,
      "outputs": [
        {
          "output_type": "stream",
          "name": "stdout",
          "text": [
            "Enter value (0 to stop):\n",
            "1\n",
            "Enter value (0 to stop):\n",
            "3\n",
            "Enter value (0 to stop):\n",
            "2\n",
            "Enter value (0 to stop):\n",
            "2\n",
            "Enter value (0 to stop):\n",
            "0\n",
            "Original list entered by user: \n",
            "[1, 3, 2, 2]\n",
            "List with duplicates removed: \n",
            "[1, 3, 2]\n"
          ]
        }
      ]
    },
    {
      "cell_type": "markdown",
      "metadata": {
        "id": "3wDGeUZFmAgy"
      },
      "source": [
        "## Question 3 - Zipping together two lists into a list of lists (10 pts)\n",
        "In this program, implement the function `zip2lists(list1, list2)` . This\n",
        "function is passed two lists of strings ( `list1` and `list2` ), where you can assume that both\n",
        "lists both have the same length (number of elements). The function should return a new\n",
        "list that \"zips\" together the two lists passed in. That is, the result should be a list that\n",
        "contains lists that are pairs of elements, one from each of the original lists, in order. For\n",
        "example, calling:\n",
        "\n",
        "`zip2lists(['a', 'b', 'c'], ['d', 'e', 'f'])`\n",
        "\n",
        "should return the following new list (of lists):\n",
        "\n",
        "`[['a', 'd'], ['b', 'e'], ['c', 'f']]`\n",
        "\n",
        "The original lists passed in should not be changed. If this function is passed two empty\n",
        "lists, it should just return an empty list, since there would be no lists (of pairs) in the result.\n",
        "In other words, calling:\n",
        "\n",
        "`zip2lists([], [])`\n",
        "\n",
        "should return the following empty list:\n",
        "\n",
        "`[]`\n",
        "\n",
        "You can think of that as a list that contains no lists as elements."
      ]
    },
    {
      "cell_type": "code",
      "metadata": {
        "cellView": "code",
        "id": "OPxuhXEWmAgz"
      },
      "source": [
        "# Define the function zip2lists here\n",
        "\n",
        "def zip2lists(list1, list2):\n",
        "    \"\"\"\n",
        "    This function is passed two lists of strings.  Both lists both have\n",
        "    the same length.  The function returns a new list that \"zips\" together\n",
        "    the two lists passed in into a list that contains lists that are pairs of\n",
        "    elements, one from each of the original lists, in order.  For example, if\n",
        "    this function were passed the lists ['a', 'b', 'c'] and ['d', 'e', 'f'] it\n",
        "    would return the list of lists:\n",
        "    [['a', 'd'], ['b', 'e'], ['c', 'f']]\n",
        "    The original lists passed in should not be changed.\n",
        "    Note that if this function is passed two empty lists, it should just\n",
        "    return an empty list, since there would be no lists (of pairs) in the\n",
        "    result.\n",
        "    \"\"\"\n",
        "    result=[];\n",
        "    for i in range(len(list1)):\n",
        "      tmp=[];\n",
        "      tmp.append(list1[i]);\n",
        "      tmp.append(list2[i]);\n",
        "      result.append(tmp);\n",
        "    return result;\n"
      ],
      "execution_count": null,
      "outputs": []
    },
    {
      "cell_type": "code",
      "metadata": {
        "id": "Hxs5Km7jmAg0",
        "colab": {
          "base_uri": "https://localhost:8080/"
        },
        "outputId": "53dc8136-541b-4c91-d157-344dd7815796"
      },
      "source": [
        "# Test your function here\n",
        "\n",
        "result_list = zip2lists(['a', 'b', 'c'], ['d', 'e', 'f'])\n",
        "print(result_list)      # should print [['a', 'd'], ['b', 'e'], ['c', 'f']]"
      ],
      "execution_count": null,
      "outputs": [
        {
          "output_type": "stream",
          "name": "stdout",
          "text": [
            "[['a', 'd'], ['b', 'e'], ['c', 'f']]\n"
          ]
        }
      ]
    }
  ]
}