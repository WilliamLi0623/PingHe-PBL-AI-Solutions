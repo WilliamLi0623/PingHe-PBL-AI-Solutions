{
  "nbformat": 4,
  "nbformat_minor": 0,
  "metadata": {
    "colab": {
      "name": "William Li - Python Lists III Assignment.ipynb",
      "provenance": [],
      "collapsed_sections": []
    },
    "kernelspec": {
      "name": "python3",
      "display_name": "Python 3"
    },
    "language_info": {
      "name": "python"
    }
  },
  "cells": [
    {
      "cell_type": "markdown",
      "metadata": {
        "id": "4F3IZgSDP3nb"
      },
      "source": [
        "# Python Lists III Assignment (40 pts)\n",
        "\n",
        "---\n",
        "\n"
      ]
    },
    {
      "cell_type": "markdown",
      "metadata": {
        "id": "REUuaM18VZZt"
      },
      "source": [
        "# Part I - Slicing Questions (20 pts)\n",
        "\n",
        "These short answer questions require one line of code using the slicing method we covered in class."
      ]
    },
    {
      "cell_type": "code",
      "metadata": {
        "id": "B4hR21Z7Vcqm"
      },
      "source": [
        "# Run the following cell\n",
        "# DON'T Modify it\n",
        "\n",
        "alist = [1, 2, 3, 4, 5, 6, 7, 8, 9, 10]"
      ],
      "execution_count": null,
      "outputs": []
    },
    {
      "cell_type": "markdown",
      "metadata": {
        "id": "5qFtYHb2dTiw"
      },
      "source": [
        "###  1 Print the first and the last element of the list. (4 pts)"
      ]
    },
    {
      "cell_type": "code",
      "metadata": {
        "id": "rLgachzkdXsA",
        "colab": {
          "base_uri": "https://localhost:8080/"
        },
        "outputId": "0062ed9c-02b1-43a3-9bf5-d2a83ea42afc"
      },
      "source": [
        "# Print the first and the last element of alist.\n",
        "\n",
        "print(alist[0]);\n",
        "print(alist[len(alist)-1]);"
      ],
      "execution_count": null,
      "outputs": [
        {
          "output_type": "stream",
          "name": "stdout",
          "text": [
            "1\n",
            "10\n"
          ]
        }
      ]
    },
    {
      "cell_type": "markdown",
      "metadata": {
        "id": "5YiNUeypdqYg"
      },
      "source": [
        "### 2 From alist, slice a sublist of all elements with even values (2, 4, 6, ...) (4 pts)\n",
        "\n",
        "**You need to use slicing to receive credit for this question**"
      ]
    },
    {
      "cell_type": "code",
      "metadata": {
        "id": "RoD505WKdwFp",
        "colab": {
          "base_uri": "https://localhost:8080/"
        },
        "outputId": "b6efdd3b-153e-4713-c725-4d5b1d9eaa71"
      },
      "source": [
        "# From alist, slice a sublist of all elements with even values (2, 4, 6, ...)\n",
        "print(alist[1:10:2]);"
      ],
      "execution_count": null,
      "outputs": [
        {
          "output_type": "stream",
          "name": "stdout",
          "text": [
            "[2, 4, 6, 8, 10]\n"
          ]
        }
      ]
    },
    {
      "cell_type": "markdown",
      "metadata": {
        "id": "BdQYcdlUdxaG"
      },
      "source": [
        "### 3 From alist, slice a sublist of the first 4 elements (4 pts)\n",
        "\n",
        "**You need to use slicing to receive credit for this question**"
      ]
    },
    {
      "cell_type": "code",
      "metadata": {
        "id": "uhLwXkHWd2EO",
        "colab": {
          "base_uri": "https://localhost:8080/"
        },
        "outputId": "ed46c89a-65e3-4884-be17-82fc21004ee4"
      },
      "source": [
        "# From alist, slice a sublist of the first 4 elements\n",
        "print(alist[0:4]);"
      ],
      "execution_count": null,
      "outputs": [
        {
          "output_type": "stream",
          "name": "stdout",
          "text": [
            "[1, 2, 3, 4]\n"
          ]
        }
      ]
    },
    {
      "cell_type": "markdown",
      "metadata": {
        "id": "a34swGOwd3Cq"
      },
      "source": [
        "### 4 From alist, slice a sublist of the last 3 elements. (4 pts)\n",
        "\n",
        "**You need to use slicing with NEGATIVE INDEX to receive credit for this question**"
      ]
    },
    {
      "cell_type": "code",
      "metadata": {
        "id": "OBnFjKF4d6hD",
        "colab": {
          "base_uri": "https://localhost:8080/"
        },
        "outputId": "933d07be-a7f2-41d8-9cef-219cadce8e8d"
      },
      "source": [
        "# From alist, slice a sublist of the last 3 elements\n",
        "# You need to use slicing with NEGATIVE INDEX to receive credit for this question\n",
        "print(alist[-3:]);"
      ],
      "execution_count": null,
      "outputs": [
        {
          "output_type": "stream",
          "name": "stdout",
          "text": [
            "[8, 9, 10]\n"
          ]
        }
      ]
    },
    {
      "cell_type": "markdown",
      "metadata": {
        "id": "vO-lGXvzd72s"
      },
      "source": [
        "### 5 From alist, slice a sublist of the last 3 elements, in reverse order. (4 pts)\n",
        "\n",
        "**You need to use slicing with NEGATIVE INDEX to receive credit for this question**"
      ]
    },
    {
      "cell_type": "code",
      "metadata": {
        "id": "OSGyEh6kV5vh",
        "colab": {
          "base_uri": "https://localhost:8080/"
        },
        "outputId": "6913ffa3-1ea4-45cf-9341-11b43bdb1872"
      },
      "source": [
        "# From alist, slice a sublist of the last 3 elements, in reverse order.\n",
        "# You need to use slicing with NEGATIVE INDEX to receive credit for this question\n",
        "print(alist[-1:6:-1]);"
      ],
      "execution_count": null,
      "outputs": [
        {
          "output_type": "stream",
          "name": "stdout",
          "text": [
            "[10, 9, 8]\n"
          ]
        }
      ]
    },
    {
      "cell_type": "markdown",
      "metadata": {
        "id": "pTfN2ZqPVVNS"
      },
      "source": [
        "# Part II - 2D Lists Questions"
      ]
    },
    {
      "cell_type": "markdown",
      "metadata": {
        "id": "AYWfC06sR_pW"
      },
      "source": [
        "## Question 1 (10 pts)\n",
        "Implement the following function:\n",
        "\n",
        "returns a nested list where each element is a list containing \n",
        "    the index of an element in the original list and the element itself. \n",
        "    These lists should appear in increasing order of indices.\n",
        "\n",
        "* Example 1:\n",
        "    * Input: `['python', 'is', 'super', 'fun']`\n",
        "    * Output: `[[0, 'python'], [1, 'is'], [2, 'super'], [3, 'fun']]`\n",
        "* Example 2:\n",
        "    * Input: `['hello']`\n",
        "    * Output: `[[0, 'hello']]`\n",
        "* Example 3:\n",
        "    * Input: `[]`\n",
        "    * Output: `[]`"
      ]
    },
    {
      "cell_type": "code",
      "metadata": {
        "id": "00hYGmzUR_pW"
      },
      "source": [
        "def enumerate(lst):\n",
        "    \"\"\"\n",
        "    returns a nested list where each element is a list containing \n",
        "    the index of an element in the original list and the element itself. \n",
        "    These lists should appear in increasing order of indices.\n",
        "\n",
        "    >>> enumerate(['python', 'is', 'super', 'fun'])\n",
        "    [[0, 'python'], [1, 'is'], [2, 'super'], [3, 'fun']]\n",
        "    >>> enumerate(['hello'])\n",
        "    [[0, 'hello']]\n",
        "    >>> enumerate([])\n",
        "    []\n",
        "    \"\"\"\n",
        "    tmp2=[];\n",
        "    for i in range(0,len(lst),1):\n",
        "      tmp1=[];\n",
        "      tmp1.append(i);\n",
        "      tmp1.append(lst[i]);\n",
        "      tmp2.append(tmp1);\n",
        "    return tmp2;\n",
        "\n",
        "    \n"
      ],
      "execution_count": null,
      "outputs": []
    },
    {
      "cell_type": "code",
      "metadata": {
        "id": "Lp8XwcTaR_pX",
        "colab": {
          "base_uri": "https://localhost:8080/"
        },
        "outputId": "aa90d74c-82e6-463a-baa9-cf5520c57dd9"
      },
      "source": [
        "# You don't have to do anything here\n",
        "# Just run the cell\n",
        "# print the results\n",
        "\n",
        "print(enumerate(['python', 'is', 'super', 'fun']))\n",
        "print(enumerate(['hello']))\n",
        "print(enumerate([]))"
      ],
      "execution_count": null,
      "outputs": [
        {
          "output_type": "stream",
          "name": "stdout",
          "text": [
            "[[0, 'python'], [1, 'is'], [2, 'super'], [3, 'fun']]\n",
            "[[0, 'hello']]\n",
            "[]\n"
          ]
        }
      ]
    },
    {
      "cell_type": "markdown",
      "metadata": {
        "id": "J4-YTII1R_pY"
      },
      "source": [
        "## Question 2 (10 pts)\n",
        "\n",
        "Nested lists are often used to represent matrices, which are grids of numbers commonly used in linear algebra, computer graphics, and artificial intelligence. For example, the nested list `[[1, 2], [3, 4], [5, 6]]` represents this matrix:\n",
        "\n",
        "\\begin{bmatrix}\n",
        "1 & 2\\\\\n",
        "3 & 4 \\\\\n",
        "5 & 6\n",
        "\\end{bmatrix}\n",
        "\n",
        "One common operations you might perform is to multiply a matrix's elements by a constant. For example, we'd multiply a matrix by a constant like so:\n",
        "\n",
        "$$\n",
        "3 \\times \n",
        "\\begin{bmatrix}\n",
        "1 & 2\\\\\n",
        "3 & 4 \\\\\n",
        "5 & 6\n",
        "\\end{bmatrix}\n",
        "= \n",
        "\\begin{bmatrix}\n",
        "3 & 6\\\\\n",
        "9 & 12 \\\\\n",
        "15 & 18\n",
        "\\end{bmatrix}\n",
        "$$\n",
        "\n",
        "Your job is to implement the following function"
      ]
    },
    {
      "cell_type": "code",
      "metadata": {
        "id": "YsuQTLY3R_pY"
      },
      "source": [
        "def matrix_constant_multiply(constant, matrix):\n",
        "    \"\"\"\n",
        "    Multiplies the 2-dimensional matrix m (represented as a list of lists) \n",
        "    by a constant factor c and returns the result. m should not be modified.\n",
        "\n",
        "    >>> matrix = [[1, 2, 3], [4, 5, 6], [7, 8, 9]]\n",
        "    >>> matrix_constant_multiply(2, m)\n",
        "    [[2, 4, 6], [8, 10, 12], [14, 16, 18]]\n",
        "    \"\"\"\n",
        "    for i in range(0,len(matrix),1):\n",
        "      for j in range(0,len(matrix[i]),1):\n",
        "       matrix[i][j]*=constant;\n",
        "    return matrix;\n",
        "    \n",
        "\n"
      ],
      "execution_count": null,
      "outputs": []
    },
    {
      "cell_type": "code",
      "metadata": {
        "id": "sBWgTEkNR_pZ",
        "colab": {
          "base_uri": "https://localhost:8080/"
        },
        "outputId": "7621a16d-3ac4-4e73-abba-02c985264d08"
      },
      "source": [
        "# You don't have to do anything here\n",
        "# Just run the cell\n",
        "# print your result\n",
        "\n",
        "matrix = [[1, 2, 3], [4, 5, 6], [7, 8, 9]]\n",
        "print(matrix_constant_multiply(2, matrix)) # You should have [[2, 4, 6], [8, 10, 12], [14, 16, 18]]"
      ],
      "execution_count": null,
      "outputs": [
        {
          "output_type": "stream",
          "name": "stdout",
          "text": [
            "[[2, 4, 6], [8, 10, 12], [14, 16, 18]]\n"
          ]
        }
      ]
    }
  ]
}