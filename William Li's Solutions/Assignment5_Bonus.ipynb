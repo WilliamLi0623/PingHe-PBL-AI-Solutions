{
  "nbformat": 4,
  "nbformat_minor": 0,
  "metadata": {
    "colab": {
      "name": "William Li - Bonus Assignment - Knapsack Problem.ipynb",
      "provenance": [],
      "collapsed_sections": []
    },
    "kernelspec": {
      "name": "python3",
      "display_name": "Python 3"
    },
    "language_info": {
      "name": "python"
    }
  },
  "cells": [
    {
      "cell_type": "markdown",
      "metadata": {
        "id": "hOfNKvSd3Gj6"
      },
      "source": [
        "# The Knapsack Problem (10 Bonus Points on past and future HW problems)\n",
        "\n",
        "**This Assignment is Completely Optional, and dynamic programming is not gonna be tested**\n",
        "\n",
        "The knapsack problem is a problem in combinatorial optimization: Given a set of items, each with a weight and a value, determine the number of each item to include in a collection so that the total weight is less than or equal to a given limit and the total value is as large as possible."
      ]
    },
    {
      "cell_type": "code",
      "metadata": {
        "id": "Kavuy8Wd2-Pu"
      },
      "source": [
        "# Preconditions of the problem\n",
        "COST = 15\n",
        "WEIGHTS = [1, 4, 1, 2, 12]\n",
        "VALUES = [1, 10, 2, 2, 4]"
      ],
      "execution_count": null,
      "outputs": []
    },
    {
      "cell_type": "markdown",
      "metadata": {
        "id": "rQnbNJ5h3w4g"
      },
      "source": [
        "## Dynamic Programming\n",
        "\n",
        "Use dynamic programming and the idea of recusively dividing the original problem into its smaller counterparts to solve the knapsack problem."
      ]
    },
    {
      "cell_type": "code",
      "metadata": {
        "id": "wfDZg7Qe3yhK",
        "colab": {
          "base_uri": "https://localhost:8080/"
        },
        "outputId": "f42ee746-0b4c-4dd9-ea83-11b4ebbf839a"
      },
      "source": [
        "# Your code here\n",
        "# Right, no hints, you are on your own :)\n",
        "def knapsack(n):\n",
        "\tdp=[[0 for j in range(COST+1)] for i in range(n+1)];\n",
        "\tfor i in range(1,n+1):\n",
        "\t\tfor j in range(1,COST+1):\n",
        "\t\t\tdp[i][j]=dp[i-1][j];\n",
        "\t\t\tif j>=WEIGHTS[i-1] and dp[i][j]<dp[i-1][j-WEIGHTS[i-1]]+VALUES[i-1]:\n",
        "\t\t\t\tdp[i][j]=dp[i-1][j-WEIGHTS[i-1]]+VALUES[i-1];\n",
        "\treturn dp[n][COST];\n",
        "print(knapsack(5));"
      ],
      "execution_count": null,
      "outputs": [
        {
          "output_type": "stream",
          "name": "stdout",
          "text": [
            "15\n"
          ]
        }
      ]
    }
  ]
}