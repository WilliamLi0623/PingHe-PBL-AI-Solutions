{
  "nbformat": 4,
  "nbformat_minor": 0,
  "metadata": {
    "colab": {
      "name": "XIAOTIAN FAN - Assignment 7 Python Dictionaries.ipynb",
      "provenance": [],
      "collapsed_sections": [],
      "include_colab_link": true
    },
    "kernelspec": {
      "name": "python3",
      "display_name": "Python 3"
    },
    "language_info": {
      "name": "python"
    }
  },
  "cells": [
    {
      "cell_type": "markdown",
      "metadata": {
        "id": "view-in-github",
        "colab_type": "text"
      },
      "source": [
        "<a href=\"https://colab.research.google.com/github/XiaoTianFan/PingHe-PBL-AI-Solutions/blob/main/XIAOTIAN_FAN_Assignment_7_Python_Dictionaries.ipynb\" target=\"_parent\"><img src=\"https://colab.research.google.com/assets/colab-badge.svg\" alt=\"Open In Colab\"/></a>"
      ]
    },
    {
      "cell_type": "markdown",
      "metadata": {
        "id": "4F3IZgSDP3nb"
      },
      "source": [
        "# Python Assignment 7 - Dictionaries\n"
      ]
    },
    {
      "cell_type": "markdown",
      "metadata": {
        "id": "naBOes6iOz4z"
      },
      "source": [
        "## Question 1 (10 pts)\n",
        "Write a **loop** to construct a dictionary where the keys are numbers between 1 and 15 (both included) and the values are square of keys.\n",
        "\n",
        "Your output should look like this:\n",
        "`{1: 1, 2: 4, 3: 9, 4: 16, 5: 25, 6: 36, 7: 49, 8: 64, 9: 81, 10: 100, 11: 121, 12: 144, 13: 169, 14: 196, 15: 225}`"
      ]
    },
    {
      "cell_type": "code",
      "metadata": {
        "id": "FX-uXXG2Oz40"
      },
      "source": [
        "# Construct your dictionary here\n",
        "# Write a loop to accomplish this\n",
        "dictionary = {}\n",
        "for i in range(1,16):\n",
        "  dictionary[i] = i**2\n",
        "\n",
        "\n"
      ],
      "execution_count": null,
      "outputs": []
    },
    {
      "cell_type": "code",
      "metadata": {
        "id": "TACGpkKxOz41",
        "colab": {
          "base_uri": "https://localhost:8080/"
        },
        "outputId": "04c0fc45-fb86-4120-9c7a-6fc361836e8a"
      },
      "source": [
        "# You don't have to do anything here\n",
        "# Just run the cell\n",
        "# print your dictionary\n",
        "\n",
        "print(dictionary)"
      ],
      "execution_count": null,
      "outputs": [
        {
          "output_type": "stream",
          "name": "stdout",
          "text": [
            "{1: 1, 2: 4, 3: 9, 4: 16, 5: 25, 6: 36, 7: 49, 8: 64, 9: 81, 10: 100, 11: 121, 12: 144, 13: 169, 14: 196, 15: 225}\n"
          ]
        }
      ]
    },
    {
      "cell_type": "markdown",
      "metadata": {
        "id": "xQaAhOqlOz41"
      },
      "source": [
        "## Question 2 (10 pts)\n",
        "\n",
        "Write a Python script to concatenate following dictionaries to create a new one.\n",
        "\n",
        "Sample Dictionary:\n",
        "\n",
        "`dic1={1:10, 2:20}\n",
        "dic2={3:30, 4:40}\n",
        "dic3={5:50, 6:60}`\n",
        "\n",
        "Expected Result:\n",
        "\n",
        "`{1: 10, 2: 20, 3: 30, 4: 40, 5: 50, 6: 60}`\n",
        "\n",
        "**Your Method Should Work for All Dictionaries**"
      ]
    },
    {
      "cell_type": "code",
      "metadata": {
        "id": "Ra1FPrgoOz42"
      },
      "source": [
        "# Sample Dictionaries:\n",
        "\n",
        "dic1={1:10, 2:20}\n",
        "dic2={3:30, 4:40}\n",
        "dic3={5:50, 6:60}"
      ],
      "execution_count": null,
      "outputs": []
    },
    {
      "cell_type": "code",
      "metadata": {
        "id": "Qawzv4OFOz42"
      },
      "source": [
        "# Construct your dictionary here\n",
        "dictionary = {**dic1, **dic2, **dic3}\n",
        "\n",
        "\n"
      ],
      "execution_count": null,
      "outputs": []
    },
    {
      "cell_type": "code",
      "metadata": {
        "id": "Pd40CVSAOz43",
        "colab": {
          "base_uri": "https://localhost:8080/"
        },
        "outputId": "b5da2464-5b24-4fe6-d78e-29035631528c"
      },
      "source": [
        "# You don't have to do anything here\n",
        "# Just run the cell\n",
        "# print your dictionary\n",
        "\n",
        "print(dictionary)"
      ],
      "execution_count": null,
      "outputs": [
        {
          "output_type": "stream",
          "name": "stdout",
          "text": [
            "{1: 10, 2: 20, 3: 30, 4: 40, 5: 50, 6: 60}\n"
          ]
        }
      ]
    },
    {
      "cell_type": "markdown",
      "metadata": {
        "id": "GkjaHzAoOz43"
      },
      "source": [
        "## Question 3 (10 pts)\n",
        "In this problem you are given two lists: `store_list` records the places at which you spent your credit card. `amount_list` stores the amount you spent. These two lists are of same length and the same index refers to the same purchase.\n",
        "\n",
        "Write a program to print to the screen the total amount that was purchased at each store on the\n",
        "bill. Your output should look like this\n",
        "\n",
        "`\n",
        "Shake Shack: $16\n",
        "Grocery Hut: $293\n",
        "Ace Hardware: $14\n",
        "Joan's Fabric: $18\n",
        "Nom Nom Nom: $12\n",
        "`\n",
        "\n",
        "**Hint: using dictionaries would be a really good way to solve this problem!**"
      ]
    },
    {
      "cell_type": "code",
      "metadata": {
        "cellView": "code",
        "id": "puJQ6T5OPw4U"
      },
      "source": [
        "# Run this cell first, but do not change anything\n",
        "store_list = ['Shake Shack', 'Grocery Hut', 'Grocery Hut', 'Ace Hardware', 'Grocery Hut',\n",
        "              \"Joan's Fabric\", 'Nom Nom Nom',  'Grocery Hut', 'Shake Shack']\n",
        "amount_list = [9, 82, 117, 14, 65, 18, 12, 29, 7]"
      ],
      "execution_count": null,
      "outputs": []
    },
    {
      "cell_type": "code",
      "metadata": {
        "id": "J_4NX9MYOz44"
      },
      "source": [
        "# Write your code for Question 3 here\n",
        "\n",
        "def bill_construction(slist, alist):\n",
        "  rdic = {}\n",
        "  for i in range(len(slist)):\n",
        "    if not (slist[i] in rdic.keys()):\n",
        "      rdic[slist[i]] = alist[i]\n",
        "    else:\n",
        "      rdic[slist[i]] += alist[i]\n",
        "  return rdic\n"
      ],
      "execution_count": null,
      "outputs": []
    },
    {
      "cell_type": "code",
      "metadata": {
        "id": "_R8hzGhHOz45",
        "colab": {
          "base_uri": "https://localhost:8080/"
        },
        "outputId": "326cb6b8-f79f-4168-9df3-83697875d102"
      },
      "source": [
        "# Print Your Result here\n",
        "bill_construction(store_list, amount_list)\n",
        "\n",
        "\n"
      ],
      "execution_count": null,
      "outputs": [
        {
          "output_type": "execute_result",
          "data": {
            "text/plain": [
              "{'Ace Hardware': 14,\n",
              " 'Grocery Hut': 293,\n",
              " \"Joan's Fabric\": 18,\n",
              " 'Nom Nom Nom': 12,\n",
              " 'Shake Shack': 16}"
            ]
          },
          "metadata": {},
          "execution_count": 20
        }
      ]
    }
  ]
}