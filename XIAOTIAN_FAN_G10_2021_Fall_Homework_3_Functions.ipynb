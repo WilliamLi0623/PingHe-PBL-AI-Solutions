{
  "nbformat": 4,
  "nbformat_minor": 0,
  "metadata": {
    "colab": {
      "name": "XIAOTIAN FAN - G10 2021 Fall Homework 3 - Functions.ipynb",
      "provenance": [],
      "collapsed_sections": [],
      "include_colab_link": true
    },
    "kernelspec": {
      "name": "python3",
      "display_name": "Python 3"
    },
    "language_info": {
      "name": "python"
    }
  },
  "cells": [
    {
      "cell_type": "markdown",
      "metadata": {
        "id": "view-in-github",
        "colab_type": "text"
      },
      "source": [
        "<a href=\"https://colab.research.google.com/github/XiaoTianFan/PingHe-PBL-AI-Solutions/blob/main/XIAOTIAN_FAN_G10_2021_Fall_Homework_3_Functions.ipynb\" target=\"_parent\"><img src=\"https://colab.research.google.com/assets/colab-badge.svg\" alt=\"Open In Colab\"/></a>"
      ]
    },
    {
      "cell_type": "markdown",
      "metadata": {
        "id": "QYaOx6DzLtAP"
      },
      "source": [
        "# G10 2021 Fall Homework 3 - Functions (40 pts)\n",
        "\n",
        "\n",
        "---\n",
        "\n"
      ]
    },
    {
      "cell_type": "markdown",
      "metadata": {
        "id": "EHAiCNvPjZhQ"
      },
      "source": [
        "## Question 1 (10 pts)\n",
        "Write a function that **returns** the Max of three numbers\n",
        "\n",
        "1.   Complete the code for the function in the 1st cell. (Don't forget to run the cell before testing in 2nd cell)\n",
        "2.   Run the 2nd cell to test your function. And you should get:\n",
        "\n",
        "```\n",
        ">>>print(max_three_numbers(1, 2, 3))\n",
        "3\n",
        ">>>print(max_three_numbers(1, 3, 2))\n",
        "3\n",
        ">>>print(max_three_numbers(3, 2, 1))\n",
        "3\n",
        "```"
      ]
    },
    {
      "cell_type": "code",
      "metadata": {
        "cellView": "code",
        "id": "puJQ6T5OPw4U"
      },
      "source": [
        "# Define the function here, it has three inputs\n",
        "def max_three_numbers(a, b, c):\n",
        "  return max((a, b, c))\n",
        "\n"
      ],
      "execution_count": null,
      "outputs": []
    },
    {
      "cell_type": "code",
      "metadata": {
        "id": "14e9p6nQjZhS",
        "colab": {
          "base_uri": "https://localhost:8080/"
        },
        "outputId": "b9c8f9ea-9a8c-4778-b7a1-a9960ea3ad87"
      },
      "source": [
        "# DON'T CHANGE ANYTHING HERE\n",
        "# Just run the cell to test your function\n",
        "\n",
        "print(max_three_numbers(1, 2, 3))\n",
        "print(max_three_numbers(1, 3, 2))\n",
        "print(max_three_numbers(3, 2, 1))"
      ],
      "execution_count": null,
      "outputs": [
        {
          "output_type": "stream",
          "name": "stdout",
          "text": [
            "3\n",
            "3\n",
            "3\n"
          ]
        }
      ]
    },
    {
      "cell_type": "markdown",
      "metadata": {
        "id": "K_CYifBcjZhS"
      },
      "source": [
        "## Question 2 (10 pts)\n",
        "* Define a function called `factorial()`, that takes as input a non-negative integer and **returns** its factorial\n",
        "\n",
        "$$n! = n*(n-1)*\\cdots*1$$\n",
        "* Notice that\n",
        "\n",
        "$$0! = 1$$\n",
        "\n",
        "* Then print the factorials from 0, 1, ... to 10\n",
        "    * Your output should look like this:\n",
        "    ```\n",
        "    0, 1\n",
        "    1, 1\n",
        "    2, 2\n",
        "    ...\n",
        "    10, 3628800\n",
        "    ```\n"
      ]
    },
    {
      "cell_type": "code",
      "metadata": {
        "cellView": "code",
        "id": "LHJ7MZqRjZhT"
      },
      "source": [
        "# Define the function of factorial here\n",
        "def factorial(n):\n",
        "  if n == 0:\n",
        "    return 1\n",
        "  elif n == 1:\n",
        "    return 1\n",
        "  else:\n",
        "    return n*factorial(n-1)\n",
        "\n"
      ],
      "execution_count": null,
      "outputs": []
    },
    {
      "cell_type": "code",
      "metadata": {
        "id": "ZpkiOERJjZhT",
        "colab": {
          "base_uri": "https://localhost:8080/"
        },
        "outputId": "06734ab2-6ba8-413f-ffeb-71b26249f127"
      },
      "source": [
        "# Print the factorials from 0, 1, ... to 10\n",
        "for i in range(0,11):\n",
        "  print(i,factorial(i))\n",
        "\n"
      ],
      "execution_count": null,
      "outputs": [
        {
          "output_type": "stream",
          "name": "stdout",
          "text": [
            "0 1\n",
            "1 1\n",
            "2 2\n",
            "3 6\n",
            "4 24\n",
            "5 120\n",
            "6 720\n",
            "7 5040\n",
            "8 40320\n",
            "9 362880\n",
            "10 3628800\n"
          ]
        }
      ]
    },
    {
      "cell_type": "markdown",
      "metadata": {
        "id": "NlofI0D9jZhT"
      },
      "source": [
        "## Question 3 (10 pts)\n",
        "Write a Python function to check whether a number is perfect or not.\n",
        "* According to Wikipedia : In number theory, a perfect number is a positive integer that is equal to the sum of its proper positive divisors, that is, the sum of its positive divisors excluding the number itself (also known as its aliquot sum). Equivalently, a perfect number is a number that is half the sum of all of its positive divisors (including itself).\n",
        "* Example : The first perfect number is 6, because 1, 2, and 3 are its proper positive divisors, and 1 + 2 + 3 = 6. Equivalently, the number 6 is equal to half the sum of all its positive divisors: ( 1 + 2 + 3 + 6 ) / 2 = 6. The next perfect number is 28 = 1 + 2 + 4 + 7 + 14. This is followed by the perfect numbers 496 and 8128."
      ]
    },
    {
      "cell_type": "code",
      "metadata": {
        "cellView": "code",
        "id": "663ng8ZbjZhU"
      },
      "source": [
        "# Define the function here\n",
        "def perfect_or_not(n):\n",
        "  factor = []\n",
        "  for i in range(1, n+1):\n",
        "    if n%i == 0:\n",
        "      factor.append(i)\n",
        "  if n == sum(factor[:-1]) and n == sum(factor)/2:\n",
        "    return True\n",
        "  else:\n",
        "    return False\n",
        "\n"
      ],
      "execution_count": null,
      "outputs": []
    },
    {
      "cell_type": "code",
      "metadata": {
        "id": "HJlhDpU7jZhU",
        "colab": {
          "base_uri": "https://localhost:8080/"
        },
        "outputId": "0242f616-2291-47ac-8a2d-8d181ed37132"
      },
      "source": [
        "# Test your function here\n",
        "perfect_or_not(6)\n",
        "\n"
      ],
      "execution_count": null,
      "outputs": [
        {
          "output_type": "execute_result",
          "data": {
            "text/plain": [
              "True"
            ]
          },
          "metadata": {},
          "execution_count": 18
        }
      ]
    },
    {
      "cell_type": "markdown",
      "metadata": {
        "id": "r6ohhFJOl06-"
      },
      "source": [
        "## Question 4 - Finding factors (10 pts)\n",
        "\n",
        "Implement a function that **prints** out all the factors of the given number (you can assume the input is an integer but not neccesarily positive), one by one. Your function should check that the en|tered number is greater than 0. \n",
        "\n",
        "1.   Complete the code for the function in the 1st cell. (Don't forget to run the cell before testing in 2nd cell)\n",
        "2.   Run the 2nd cell to test your function. And you should get:\n",
        "\n",
        "```\n",
        ">>> f(42)\n",
        "1\n",
        "2\n",
        "3\n",
        "6\n",
        "7\n",
        "14\n",
        "21\n",
        "42\n",
        ">>> f(53)\n",
        "1\n",
        "53\n",
        ">>> f(0)\n",
        "Input should be a positive integer, please try again.\n",
        "```"
      ]
    },
    {
      "cell_type": "code",
      "metadata": {
        "id": "QCM9YAVFl7_x"
      },
      "source": [
        "# Write your code here for Question 2.2\n",
        "# Define the function here, it has 1 input\n",
        "def f(n):\n",
        "  if n <= 0:\n",
        "    return 'the number is not a positive integer.'\n",
        "  else:\n",
        "    for i in range(1, n+1):\n",
        "      if n%i == 0:\n",
        "        print(i)\n",
        "    \n"
      ],
      "execution_count": null,
      "outputs": []
    },
    {
      "cell_type": "code",
      "metadata": {
        "id": "lbpj5KJBl8qd",
        "colab": {
          "base_uri": "https://localhost:8080/",
          "height": 218
        },
        "outputId": "41fc4f58-03a0-4e4c-8e9c-8b4a2a0ac062"
      },
      "source": [
        "# DON'T CHANGE ANYTHING HERE\n",
        "# Just run the cell to test your function\n",
        "\n",
        "f(42)\n",
        "f(53)\n",
        "f(0)"
      ],
      "execution_count": null,
      "outputs": [
        {
          "output_type": "stream",
          "name": "stdout",
          "text": [
            "1\n",
            "2\n",
            "3\n",
            "6\n",
            "7\n",
            "14\n",
            "21\n",
            "42\n",
            "1\n",
            "53\n"
          ]
        },
        {
          "output_type": "execute_result",
          "data": {
            "application/vnd.google.colaboratory.intrinsic+json": {
              "type": "string"
            },
            "text/plain": [
              "'the number is not a positive integer.'"
            ]
          },
          "metadata": {},
          "execution_count": 20
        }
      ]
    },
    {
      "cell_type": "markdown",
      "metadata": {
        "id": "aEPQi8FZjZhV"
      },
      "source": [
        "## (Optional) Question 5 - (Bonus 10 pts)\n",
        "Write a Python function that **prints** out the first n rows of Pascal's triangle.\n",
        "* Sample Pascal's triangle :\n",
        "![image.png](https://i.loli.net/2020/07/22/bQ92VpZrlkSFasL.png)\n",
        "* Each number is the two numbers above it added together\n",
        "\n",
        "**NOTE:** This question is for those who would like some more challenges. Points will be added to the total grade until maximum amount of points are reached. (Maximum grade you can obtain for this assignment is 40) "
      ]
    },
    {
      "cell_type": "code",
      "metadata": {
        "cellView": "code",
        "id": "dbKwY781jZhV"
      },
      "source": [
        "# Define the function here\n",
        "def generate_pascals_triangle(rows):\n",
        "        pascals_triangle = []\n",
        "        for i in range(rows):\n",
        "            pascals_triangle.append([1])\n",
        "            for j in range(1,i+1):\n",
        "                if i == j:\n",
        "                    pascals_triangle[i].append(1)\n",
        "                else:\n",
        "                    pascals_triangle[i].append(pascals_triangle[i-1][j]+pascals_triangle[i-1][j-1])\n",
        "        return pascals_triangle\n",
        "\n",
        "\n"
      ],
      "execution_count": null,
      "outputs": []
    },
    {
      "cell_type": "code",
      "metadata": {
        "id": "kpeY5CVAjZhV",
        "colab": {
          "base_uri": "https://localhost:8080/"
        },
        "outputId": "f2bcc018-a636-4b9c-b95e-a510cf6c52b7"
      },
      "source": [
        "# Test your function here\n",
        "generate_pascals_triangle(4)\n",
        "\n"
      ],
      "execution_count": null,
      "outputs": [
        {
          "output_type": "execute_result",
          "data": {
            "text/plain": [
              "[[1], [1, 1], [1, 2, 1], [1, 3, 3, 1]]"
            ]
          },
          "metadata": {},
          "execution_count": 26
        }
      ]
    },
    {
      "cell_type": "code",
      "metadata": {
        "id": "97eK8314bNwq"
      },
      "source": [
        ""
      ],
      "execution_count": null,
      "outputs": []
    }
  ]
}