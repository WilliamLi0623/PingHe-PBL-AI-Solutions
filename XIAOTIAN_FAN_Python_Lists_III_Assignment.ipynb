{
  "nbformat": 4,
  "nbformat_minor": 0,
  "metadata": {
    "colab": {
      "name": "XIAOTIAN FAN - Python Lists III Assignment.ipynb",
      "provenance": [],
      "collapsed_sections": [],
      "include_colab_link": true
    },
    "kernelspec": {
      "name": "python3",
      "display_name": "Python 3"
    },
    "language_info": {
      "name": "python"
    }
  },
  "cells": [
    {
      "cell_type": "markdown",
      "metadata": {
        "id": "view-in-github",
        "colab_type": "text"
      },
      "source": [
        "<a href=\"https://colab.research.google.com/github/XiaoTianFan/PingHe-PBL-AI-Solutions/blob/main/XIAOTIAN_FAN_Python_Lists_III_Assignment.ipynb\" target=\"_parent\"><img src=\"https://colab.research.google.com/assets/colab-badge.svg\" alt=\"Open In Colab\"/></a>"
      ]
    },
    {
      "cell_type": "markdown",
      "metadata": {
        "id": "4F3IZgSDP3nb"
      },
      "source": [
        "# Python Lists III Assignment (40 pts)\n",
        "\n",
        "---\n",
        "\n"
      ]
    },
    {
      "cell_type": "markdown",
      "metadata": {
        "id": "REUuaM18VZZt"
      },
      "source": [
        "# Part I - Slicing Questions (20 pts)\n",
        "\n",
        "These short answer questions require one line of code using the slicing method we covered in class."
      ]
    },
    {
      "cell_type": "code",
      "metadata": {
        "id": "B4hR21Z7Vcqm"
      },
      "source": [
        "# Run the following cell\n",
        "# DON'T Modify it\n",
        "\n",
        "alist = [1, 2, 3, 4, 5, 6, 7, 8, 9, 10]"
      ],
      "execution_count": null,
      "outputs": []
    },
    {
      "cell_type": "markdown",
      "metadata": {
        "id": "5qFtYHb2dTiw"
      },
      "source": [
        "###  1 Print the first and the last element of the list. (4 pts)"
      ]
    },
    {
      "cell_type": "code",
      "metadata": {
        "id": "rLgachzkdXsA",
        "colab": {
          "base_uri": "https://localhost:8080/"
        },
        "outputId": "8fd42fa9-4532-4ffa-b467-a40eae3132c7"
      },
      "source": [
        "# Print the first and the last element of alist.\n",
        "print(alist[0], alist[-1])\n"
      ],
      "execution_count": null,
      "outputs": [
        {
          "output_type": "stream",
          "name": "stdout",
          "text": [
            "1 10\n"
          ]
        }
      ]
    },
    {
      "cell_type": "markdown",
      "metadata": {
        "id": "5YiNUeypdqYg"
      },
      "source": [
        "### 2 From alist, slice a sublist of all elements with even values (2, 4, 6, ...) (4 pts)\n",
        "\n",
        "**You need to use slicing to receive credit for this question**"
      ]
    },
    {
      "cell_type": "code",
      "metadata": {
        "id": "RoD505WKdwFp",
        "colab": {
          "base_uri": "https://localhost:8080/"
        },
        "outputId": "5cd9132b-3a9d-492f-f5b0-4695769613bd"
      },
      "source": [
        "# From alist, slice a sublist of all elements with even values (2, 4, 6, ...)\n",
        "print(alist[1::2])\n"
      ],
      "execution_count": null,
      "outputs": [
        {
          "output_type": "stream",
          "name": "stdout",
          "text": [
            "[2, 4, 6, 8, 10]\n"
          ]
        }
      ]
    },
    {
      "cell_type": "markdown",
      "metadata": {
        "id": "BdQYcdlUdxaG"
      },
      "source": [
        "### 3 From alist, slice a sublist of the first 4 elements (4 pts)\n",
        "\n",
        "**You need to use slicing to receive credit for this question**"
      ]
    },
    {
      "cell_type": "code",
      "metadata": {
        "id": "uhLwXkHWd2EO",
        "colab": {
          "base_uri": "https://localhost:8080/"
        },
        "outputId": "b1d5c131-e0ea-447f-fb3c-1c8c2ab0084f"
      },
      "source": [
        "# From alist, slice a sublist of the first 4 elements\n",
        "print(alist[:4])"
      ],
      "execution_count": null,
      "outputs": [
        {
          "output_type": "stream",
          "name": "stdout",
          "text": [
            "[1, 2, 3, 4]\n"
          ]
        }
      ]
    },
    {
      "cell_type": "markdown",
      "metadata": {
        "id": "a34swGOwd3Cq"
      },
      "source": [
        "### 4 From alist, slice a sublist of the last 3 elements. (4 pts)\n",
        "\n",
        "**You need to use slicing with NEGATIVE INDEX to receive credit for this question**"
      ]
    },
    {
      "cell_type": "code",
      "metadata": {
        "id": "OBnFjKF4d6hD",
        "colab": {
          "base_uri": "https://localhost:8080/"
        },
        "outputId": "041a0ae7-0b3c-487b-e66c-c0496be6c3e2"
      },
      "source": [
        "# From alist, slice a sublist of the last 3 elements\n",
        "# You need to use slicing with NEGATIVE INDEX to receive credit for this question\n",
        "print(alist[-3:])"
      ],
      "execution_count": null,
      "outputs": [
        {
          "output_type": "stream",
          "name": "stdout",
          "text": [
            "[8, 9, 10]\n"
          ]
        }
      ]
    },
    {
      "cell_type": "markdown",
      "metadata": {
        "id": "vO-lGXvzd72s"
      },
      "source": [
        "### 5 From alist, slice a sublist of the last 3 elements, in reverse order. (4 pts)\n",
        "\n",
        "**You need to use slicing with NEGATIVE INDEX to receive credit for this question**"
      ]
    },
    {
      "cell_type": "code",
      "metadata": {
        "id": "OSGyEh6kV5vh",
        "colab": {
          "base_uri": "https://localhost:8080/"
        },
        "outputId": "66e38803-054c-4fa9-bf8f-aecb77cfb28c"
      },
      "source": [
        "# From alist, slice a sublist of the last 3 elements, in reverse order.\n",
        "# You need to use slicing with NEGATIVE INDEX to receive credit for this question\n",
        "print(alist[-1:-4:-1])"
      ],
      "execution_count": null,
      "outputs": [
        {
          "output_type": "stream",
          "name": "stdout",
          "text": [
            "[10, 9, 8]\n"
          ]
        }
      ]
    },
    {
      "cell_type": "markdown",
      "metadata": {
        "id": "pTfN2ZqPVVNS"
      },
      "source": [
        "# Part II - 2D Lists Questions"
      ]
    },
    {
      "cell_type": "markdown",
      "metadata": {
        "id": "AYWfC06sR_pW"
      },
      "source": [
        "## Question 1 (10 pts)\n",
        "Implement the following function:\n",
        "\n",
        "returns a nested list where each element is a list containing \n",
        "    the index of an element in the original list and the element itself. \n",
        "    These lists should appear in increasing order of indices.\n",
        "\n",
        "* Example 1:\n",
        "    * Input: `['python', 'is', 'super', 'fun']`\n",
        "    * Output: `[[0, 'python'], [1, 'is'], [2, 'super'], [3, 'fun']]`\n",
        "* Example 2:\n",
        "    * Input: `['hello']`\n",
        "    * Output: `[[0, 'hello']]`\n",
        "* Example 3:\n",
        "    * Input: `[]`\n",
        "    * Output: `[]`"
      ]
    },
    {
      "cell_type": "code",
      "metadata": {
        "id": "00hYGmzUR_pW"
      },
      "source": [
        "def enumerate(lst):\n",
        "    \"\"\"\n",
        "    returns a nested list where each element is a list containing \n",
        "    the index of an element in the original list and the element itself. \n",
        "    These lists should appear in increasing order of indices.\n",
        "\n",
        "    >>> enumerate(['python', 'is', 'super', 'fun'])\n",
        "    [[0, 'python'], [1, 'is'], [2, 'super'], [3, 'fun']]\n",
        "    >>> enumerate(['hello'])\n",
        "    [[0, 'hello']]\n",
        "    >>> enumerate([])\n",
        "    []\n",
        "    \"\"\"\n",
        "\n",
        "    return_list = []\n",
        "\n",
        "    for i in lst:\n",
        "      return_list.append([lst.index(i), i])\n",
        "\n",
        "    return return_list\n",
        "\n",
        "    \n"
      ],
      "execution_count": null,
      "outputs": []
    },
    {
      "cell_type": "code",
      "metadata": {
        "id": "Lp8XwcTaR_pX",
        "colab": {
          "base_uri": "https://localhost:8080/"
        },
        "outputId": "b3b5631e-c773-4d19-9a03-a640b0e32e1d"
      },
      "source": [
        "# You don't have to do anything here\n",
        "# Just run the cell\n",
        "# print the results\n",
        "\n",
        "print(enumerate(['python', 'is', 'super', 'fun']))\n",
        "print(enumerate(['hello']))\n",
        "print(enumerate([]))"
      ],
      "execution_count": null,
      "outputs": [
        {
          "output_type": "stream",
          "name": "stdout",
          "text": [
            "[[0, 'python'], [1, 'is'], [2, 'super'], [3, 'fun']]\n",
            "[[0, 'hello']]\n",
            "[]\n"
          ]
        }
      ]
    },
    {
      "cell_type": "markdown",
      "metadata": {
        "id": "J4-YTII1R_pY"
      },
      "source": [
        "## Question 2 (10 pts)\n",
        "\n",
        "Nested lists are often used to represent matrices, which are grids of numbers commonly used in linear algebra, computer graphics, and artificial intelligence. For example, the nested list `[[1, 2], [3, 4], [5, 6]]` represents this matrix:\n",
        "\n",
        "\\begin{bmatrix}\n",
        "1 & 2\\\\\n",
        "3 & 4 \\\\\n",
        "5 & 6\n",
        "\\end{bmatrix}\n",
        "\n",
        "One common operations you might perform is to multiply a matrix's elements by a constant. For example, we'd multiply a matrix by a constant like so:\n",
        "\n",
        "$$\n",
        "3 \\times \n",
        "\\begin{bmatrix}\n",
        "1 & 2\\\\\n",
        "3 & 4 \\\\\n",
        "5 & 6\n",
        "\\end{bmatrix}\n",
        "= \n",
        "\\begin{bmatrix}\n",
        "3 & 6\\\\\n",
        "9 & 12 \\\\\n",
        "15 & 18\n",
        "\\end{bmatrix}\n",
        "$$\n",
        "\n",
        "Your job is to implement the following function"
      ]
    },
    {
      "cell_type": "code",
      "metadata": {
        "id": "YsuQTLY3R_pY"
      },
      "source": [
        "def matrix_constant_multiply(constant, matrix):\n",
        "    \"\"\"\n",
        "    Multiplies the 2-dimensional matrix m (represented as a list of lists) \n",
        "    by a constant factor c and returns the result. m should not be modified.\n",
        "\n",
        "    >>> matrix = [[1, 2, 3], [4, 5, 6], [7, 8, 9]]\n",
        "    >>> matrix_constant_multiply(2, m)\n",
        "    [[2, 4, 6], [8, 10, 12], [14, 16, 18]]\n",
        "    \"\"\"\n",
        "\n",
        "    for i in matrix:\n",
        "      for j in range(3):\n",
        "        i[j] = i[j]*constant\n",
        "    \n",
        "    return matrix\n",
        "\n",
        "    \n",
        "\n"
      ],
      "execution_count": null,
      "outputs": []
    },
    {
      "cell_type": "code",
      "metadata": {
        "id": "sBWgTEkNR_pZ",
        "colab": {
          "base_uri": "https://localhost:8080/"
        },
        "outputId": "1652f985-baf1-4c03-b349-8e671856ee53"
      },
      "source": [
        "# You don't have to do anything here\n",
        "# Just run the cell\n",
        "# print your result\n",
        "\n",
        "matrix = [[1, 2, 3], [4, 5, 6], [7, 8, 9]]\n",
        "print(matrix_constant_multiply(2, matrix)) # You should have [[2, 4, 6], [8, 10, 12], [14, 16, 18]]"
      ],
      "execution_count": null,
      "outputs": [
        {
          "output_type": "stream",
          "name": "stdout",
          "text": [
            "[[2, 4, 6], [8, 10, 12], [14, 16, 18]]\n"
          ]
        }
      ]
    },
    {
      "cell_type": "code",
      "metadata": {
        "id": "TMNrl5lAU2yz"
      },
      "source": [
        ""
      ],
      "execution_count": null,
      "outputs": []
    }
  ]
}