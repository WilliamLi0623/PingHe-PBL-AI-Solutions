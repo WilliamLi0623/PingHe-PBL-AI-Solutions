{
  "nbformat": 4,
  "nbformat_minor": 0,
  "metadata": {
    "colab": {
      "name": "XIAOTIAN FAN - G10 2021 Fall Homework 1 - Variables and Expressions.ipynb",
      "provenance": [],
      "collapsed_sections": [],
      "include_colab_link": true
    },
    "kernelspec": {
      "name": "python3",
      "display_name": "Python 3"
    },
    "language_info": {
      "name": "python"
    }
  },
  "cells": [
    {
      "cell_type": "markdown",
      "metadata": {
        "id": "view-in-github",
        "colab_type": "text"
      },
      "source": [
        "<a href=\"https://colab.research.google.com/github/XiaoTianFan/PingHe-PBL-AI-Solutions/blob/main/XIAOTIAN_FAN_G10_2021_Fall_Homework_1_Variables_and_Expressions.ipynb\" target=\"_parent\"><img src=\"https://colab.research.google.com/assets/colab-badge.svg\" alt=\"Open In Colab\"/></a>"
      ]
    },
    {
      "cell_type": "markdown",
      "metadata": {
        "id": "QYaOx6DzLtAP"
      },
      "source": [
        "# G10 2021 Fall Homework 1 - Variables and Expressions (50 pts)\n",
        "\n",
        "\n",
        "---\n",
        "\n"
      ]
    },
    {
      "cell_type": "markdown",
      "metadata": {
        "id": "tP3tn0j4NK_e"
      },
      "source": [
        "## **Sectuib 0: Prerequisites**"
      ]
    },
    {
      "cell_type": "markdown",
      "metadata": {
        "id": "VSXTWg1yNYWx"
      },
      "source": [
        "### Prerequisite 0.1\n",
        "Familiarize yourself with Google Colab, read the quick tutorial here: https://colab.research.google.com/notebooks/intro.ipynb#\n",
        "\n",
        "\n",
        "**Now, you may start your Journey into the world of Python :)**"
      ]
    },
    {
      "cell_type": "markdown",
      "metadata": {
        "id": "Ut3lsATMLdmg"
      },
      "source": [
        "## **Section 1: Basic Knowledge (10 pts)** \n"
      ]
    },
    {
      "cell_type": "markdown",
      "metadata": {
        "id": "HDSiel0bL-a7"
      },
      "source": [
        "### Question 1.1 - Print your name (5 pts)\n",
        "Assign your First Name to a variable, and then print that on the screen."
      ]
    },
    {
      "cell_type": "code",
      "metadata": {
        "id": "gyok58-ILmNd",
        "colab": {
          "base_uri": "https://localhost:8080/"
        },
        "outputId": "d62973bd-6443-4fdc-c9a2-00d90717b8af"
      },
      "source": [
        "# Write your code here for Question 1.1\n",
        "my_name = 'Xiaotian'\n",
        "print('%s' % my_name)\n"
      ],
      "execution_count": null,
      "outputs": [
        {
          "output_type": "stream",
          "name": "stdout",
          "text": [
            "Xiaotian\n"
          ]
        }
      ]
    },
    {
      "cell_type": "markdown",
      "metadata": {
        "id": "JZO-15iZLpnh"
      },
      "source": [
        "### Question 1.2 - Modify your name (5 pts)\n",
        "Modify the value of the previous variable into your Full Name, and then print that on the screen."
      ]
    },
    {
      "cell_type": "code",
      "metadata": {
        "id": "nA-fuMaVLvQ4",
        "colab": {
          "base_uri": "https://localhost:8080/"
        },
        "outputId": "d9e2312e-8e28-44da-fe39-43618e371e3f"
      },
      "source": [
        "# Write your code here for Question 1.2\n",
        "my_name += ' Fan'\n",
        "print(my_name)\n"
      ],
      "execution_count": null,
      "outputs": [
        {
          "output_type": "stream",
          "name": "stdout",
          "text": [
            "Xiaotian Fan\n"
          ]
        }
      ]
    },
    {
      "cell_type": "markdown",
      "metadata": {
        "id": "TRIIa1zuLzlF"
      },
      "source": [
        "## **Section 2: Variables and Expressions (40 pts)** "
      ]
    },
    {
      "cell_type": "markdown",
      "metadata": {
        "id": "6P_ebmPsPXvp"
      },
      "source": [
        "### Question 2.1 - User name and age (10 pts)\n",
        "Create a program that asks the user to enter their name and their age. Print out a message addressed to them that tells them the year that they will turn 100 years old."
      ]
    },
    {
      "cell_type": "code",
      "metadata": {
        "id": "zzlY7dbaPiuu",
        "colab": {
          "base_uri": "https://localhost:8080/"
        },
        "outputId": "77739108-0cba-4391-fc68-8cccece3e1ff"
      },
      "source": [
        "# Write your code here for Question 2.1\n",
        "while 1:\n",
        "  try:\n",
        "    name = input('What/s your name dude? ')\n",
        "    age = int(input('May I have your age? '))\n",
        "  except:\n",
        "    print('You must got something wrong, try again~')\n",
        "    continue\n",
        "  else:\n",
        "    print('It seems you\\'ll get 100 years old in %i' % (2021 - age + 100))\n",
        "    break\n",
        "    "
      ],
      "execution_count": null,
      "outputs": [
        {
          "output_type": "stream",
          "name": "stdout",
          "text": [
            "What/s your name dude? J\n",
            "May I have your age? 35\n",
            "It seems you'll get 100 years old in 2086\n"
          ]
        }
      ]
    },
    {
      "cell_type": "markdown",
      "metadata": {
        "id": "4AZb2UYBL7ri"
      },
      "source": [
        "### Question 2.2 - Dividing 2 integers and finding both quotient and remainder (10 pts)\n",
        "In this part, you are asked to write a small program that\n",
        "* Ask for user inputs of 2 `int` number\n",
        "* Convert user inputs into `int` if necessary\n",
        "* Calculate both the quotient and remainder\n",
        "* Print out the result\n",
        "\n",
        "Example: `num1 = 5` and `num2 = 2`\n",
        "* Your program should print:\n",
        "\n",
        "`The quotient is: 2`\n",
        "\n",
        "`The remainder is: 1`"
      ]
    },
    {
      "cell_type": "code",
      "metadata": {
        "id": "S28Wd3w1L5Gl",
        "colab": {
          "base_uri": "https://localhost:8080/"
        },
        "outputId": "6a1bd0bb-3e49-4c95-9b86-ee3b1df2b63d"
      },
      "source": [
        "# Write your code here for Question 2.2\n",
        "while 1:\n",
        "  try:\n",
        "    number0 = int(input('Your first integer is ... ? \\n'))\n",
        "    number1 = int(input('Your second integer is ... ? \\n'))\n",
        "  except:\n",
        "    print('You must got something wrong, try again~')\n",
        "    continue\n",
        "  else:\n",
        "    print('The quotient of your first number divided by your second number is %i' % (number0//number1))\n",
        "    print('The remainder of your first number divided by your second number is %f' % (number0%number1))\n",
        "    break\n"
      ],
      "execution_count": null,
      "outputs": [
        {
          "output_type": "stream",
          "name": "stdout",
          "text": [
            "Your first integer is ... ? \n",
            "7\n",
            "Your second integer is ... ? \n",
            "3\n",
            "The quotient of your first number divided by your second number is 2\n",
            "The remainder of your first number divided by your second number is 1.000000\n"
          ]
        }
      ]
    },
    {
      "cell_type": "markdown",
      "metadata": {
        "id": "ONrj83HJMKOo"
      },
      "source": [
        "###Question 2.3 - Finding the volume of a sphere using Python (10 pts)\n",
        "A sphere is a solid ball in the 3-dimensional space. The volume $V$ of a sphere is given by:\n",
        "\n",
        "$V = \\frac{4}{3} \\pi r^3$\n",
        "\n",
        "In this question, write a program that ask user to input the radius of the sphere `r` and calculate the Volume.\n",
        "* Convert user inputs to `float`\n",
        "* Take $\\pi = 3.14$"
      ]
    },
    {
      "cell_type": "code",
      "metadata": {
        "id": "ETqjnz9UMIbP"
      },
      "source": [
        "# Write your code here for Question 2.3\n",
        "while 1:\n",
        "  try:\n",
        "    radius = float(input('Please give me a number as the radius of your sphere my old sport. \\n'))\n",
        "  except:\n",
        "    print('You must got something wrong, try again~')\n",
        "    continue\n",
        "  else:\n",
        "    print('The volume of the sphere with the radius of %f is %f' % (radius, 4/3*3.14*radius**3))\n",
        "    break\n"
      ],
      "execution_count": null,
      "outputs": []
    },
    {
      "cell_type": "markdown",
      "metadata": {
        "id": "YnWkJXVYTUim"
      },
      "source": [
        "### Question 2.4 - Write a program that asks the user for a temperature in Fahrenheit and prints out the same temperature in Celsius. (10 pts)\n",
        "\n",
        "The relationship between Fahrenheit and Celsius is:\n",
        "$$C = \\dfrac{5}{9} (F-32)$$\n",
        "\n",
        "In this question, write a program that ask user to input a temperature in Fahrenheit `f` and calculate the same temperature in Celsius. Print the result\n",
        "\n",
        "You need to first write the program in Pseudocode and then convert it into real Python code"
      ]
    },
    {
      "cell_type": "code",
      "metadata": {
        "id": "tKaygvmzTeFW"
      },
      "source": [
        "# Write your code here for Question 2.4\n",
        "def f_to_c(temp_f):\n",
        "  try:\n",
        "    temp_f = float(temp_f)\n",
        "  except:\n",
        "    return 'error'\n",
        "  else:\n",
        "    temp_c = 5/9*(temp_f-32)\n",
        "    return (temp_f, temp_c)\n",
        "\n",
        "while 1:\n",
        "  temp_f = input('Give me a temperature in Fahrenheit will you? \\n')\n",
        "  temp_fc = f_to_c(temp_f)\n",
        "  if temp_fc == 'error':\n",
        "    print('You must got something wrong, try again~')\n",
        "    continue\n",
        "  else:\n",
        "    print('When the temperature in Fahrenheit is %f, it will be %f degrees in celsius' % (temp_fc[0], temp_fc[1]))\n",
        "    break"
      ],
      "execution_count": null,
      "outputs": []
    },
    {
      "cell_type": "code",
      "metadata": {
        "id": "bnq6NxOYTL39"
      },
      "source": [
        ""
      ],
      "execution_count": null,
      "outputs": []
    }
  ]
}