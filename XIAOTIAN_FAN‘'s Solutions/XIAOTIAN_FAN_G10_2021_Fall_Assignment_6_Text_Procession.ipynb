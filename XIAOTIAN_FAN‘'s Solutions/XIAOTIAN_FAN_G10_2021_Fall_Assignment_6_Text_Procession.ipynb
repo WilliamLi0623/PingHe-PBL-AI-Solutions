{
  "nbformat": 4,
  "nbformat_minor": 0,
  "metadata": {
    "colab": {
      "name": "Copy of Python Assignment 6: Text Procession.ipynb",
      "provenance": [],
      "collapsed_sections": [],
      "include_colab_link": true
    },
    "kernelspec": {
      "name": "python3",
      "display_name": "Python 3"
    },
    "language_info": {
      "name": "python"
    }
  },
  "cells": [
    {
      "cell_type": "markdown",
      "metadata": {
        "id": "view-in-github",
        "colab_type": "text"
      },
      "source": [
        "<a href=\"https://colab.research.google.com/github/XiaoTianFan/PingHe-PBL-AI-Solutions/blob/main/XIAOTIAN_FAN_G10_2021_Fall_Assignment_6_Text_Procession.ipynb\" target=\"_parent\"><img src=\"https://colab.research.google.com/assets/colab-badge.svg\" alt=\"Open In Colab\"/></a>"
      ]
    },
    {
      "cell_type": "markdown",
      "metadata": {
        "id": "TFfWeOPwFF2_"
      },
      "source": [
        "# Python Assignment 7: Text Procession (40 pts)"
      ]
    },
    {
      "cell_type": "markdown",
      "metadata": {
        "id": "81pLaqVwFWVW"
      },
      "source": [
        "## Question 1.1 Make Gerund (10 pts)\n",
        "`make_gerund(s)`: which adds **'ing'** to the end of the given string **s** and returns this new word. If **s** already ends with **'ing'**, add an **'ly'** to the end of **s** instead. You may assume that s is at least 3 characters long."
      ]
    },
    {
      "cell_type": "code",
      "metadata": {
        "id": "FZ4TyAVQFWVX"
      },
      "source": [
        "def make_gerund(s):\n",
        "  if s.endswith('ing'):\n",
        "    s += 'ly'\n",
        "  else:\n",
        "    s += 'ing' \n",
        "  return s\n"
      ],
      "execution_count": null,
      "outputs": []
    },
    {
      "cell_type": "code",
      "metadata": {
        "id": "yeh_l24EFWVX",
        "colab": {
          "base_uri": "https://localhost:8080/"
        },
        "outputId": "25841e3a-448d-453d-8b5a-e6bb382457e5"
      },
      "source": [
        "# Test Your Function Here\n",
        "print(make_gerund('play'))\n",
        "print(make_gerund('playing'))"
      ],
      "execution_count": null,
      "outputs": [
        {
          "output_type": "stream",
          "name": "stdout",
          "text": [
            "playing\n",
            "playingly\n"
          ]
        }
      ]
    },
    {
      "cell_type": "markdown",
      "metadata": {
        "id": "Lk7vftQ_FWVa"
      },
      "source": [
        "## Question 1.2 Tridromes (10 pts)\n",
        "We say that a word is a *tridrome* if the first three letters of the word are the same as the last three letters of the word (and appear in the same order). All *tridromes* must be at least 6 letters long. For example, ENTERTAINMENT, MURMUR, and UNDERGROUND are tridromes. \n",
        "\n",
        "Write a function `is_tridrome(word)` that returns **True** if a word is a *tridrome* and **False** otherwise."
      ]
    },
    {
      "cell_type": "code",
      "metadata": {
        "id": "jAbAhJgwFWVa"
      },
      "source": [
        "def is_tridrome(word):\n",
        "  if word[:3] == word[-3:]:\n",
        "    return True\n",
        "  else:\n",
        "    return False"
      ],
      "execution_count": null,
      "outputs": []
    },
    {
      "cell_type": "code",
      "metadata": {
        "id": "MY1Iwk3pFWVa",
        "colab": {
          "base_uri": "https://localhost:8080/"
        },
        "outputId": "2caf72e7-775c-40e0-e762-dbff8eb6eb7a"
      },
      "source": [
        "# Test\n",
        "print(is_tridrome(\"tomorrow\"))\n",
        "print(is_tridrome(\"ENTERTAINMENT\"))"
      ],
      "execution_count": null,
      "outputs": [
        {
          "output_type": "stream",
          "name": "stdout",
          "text": [
            "False\n",
            "True\n"
          ]
        }
      ]
    },
    {
      "cell_type": "markdown",
      "metadata": {
        "id": "ANvAqm84FWVa"
      },
      "source": [
        "## Question 1.3 Peaceful Words (10 pts)\n",
        "We say that a word is peaceful if its letters are in alphabetical order. For example, ALMOST, CHIPS, DIRTY, FIRST, and HOST are all peaceful words. (It's ok to have two of the same letters be next to each other)\n",
        "\n",
        "Write a function `is_peaceful(word)` that returns **True** if a word is peaceful and **False** otherwise."
      ]
    },
    {
      "cell_type": "code",
      "metadata": {
        "id": "7nyXzpXvFWVa"
      },
      "source": [
        "def is_peaceful(word):\n",
        "  from string import ascii_uppercase\n",
        "\n",
        "  word = word.upper()\n",
        "  lindex = []\n",
        "  for i in range(len(word)-1):\n",
        "    if ascii_uppercase.index(word[i]) <= ascii_uppercase.index(word[i+1]):\n",
        "      continue\n",
        "    else:\n",
        "      return False\n",
        "  return True"
      ],
      "execution_count": null,
      "outputs": []
    },
    {
      "cell_type": "code",
      "metadata": {
        "id": "3-2mItBDFWVa",
        "colab": {
          "base_uri": "https://localhost:8080/"
        },
        "outputId": "c35feff2-560d-4f09-ae8b-a3dc7cb4f69f"
      },
      "source": [
        "# Test\n",
        "print(is_peaceful(\"ALMOST\"))\n",
        "print(is_peaceful(\"BYE\"))"
      ],
      "execution_count": null,
      "outputs": [
        {
          "output_type": "stream",
          "name": "stdout",
          "text": [
            "True\n",
            "False\n"
          ]
        }
      ]
    },
    {
      "cell_type": "markdown",
      "metadata": {
        "id": "4pGzphn8EiTe"
      },
      "source": [
        "## Question 1.4 - String encoding (10 pts)\n",
        "A simple means for trying to compress text with many repeated characters is to use\n",
        "something known as run-length encoding. The idea is that rather than representing every\n",
        "character in a string explicitly, we instead simply have each character immediately\n",
        "followed by a digit which denotes how many times that character should be repeated. For\n",
        "example, the string 'B4' would represent the string 'BBBB' as the character B is to be\n",
        "repeated 4 times. Similarly, the string 'm1e2t1' would represent 'meet', as the character\n",
        "m is to be repeated 1 time, followed by the character e which is to be repeated 2 times,\n",
        "followed by the character t is to be repeated 1 time. Thus, the general format for runlength encoded strings is a series of pairs, where each pair contains a single character\n",
        "followed immediately by a single digit (1 through 9 only, the digit will never be 0). The\n",
        "digit denotes the number of consecutive occurrences of the character immediately before\n",
        "it in the encoded string.\n",
        "\n",
        "\n",
        "Your job is to write a function named expand_encoded_string that takes as a parameter a called encoded, which is a string\n",
        "representing the run-length encoded text, and returns a string which is the expanded version\n",
        "of the text.\n",
        "\n",
        "For example, if you call:\n",
        "`expand_encoded_string('B1o2k2e2p1e1r1!3')`\n",
        "your function should return the string:\n",
        "`\"'Bookkeeper!!!'`\n"
      ]
    },
    {
      "cell_type": "code",
      "metadata": {
        "cellView": "code",
        "id": "puJQ6T5OPw4U"
      },
      "source": [
        "# Define the function expand_encoded_string here\n",
        "\n",
        "def expand_encoded_string(encoded):\n",
        "    \"\"\"\n",
        "    This function is passed a run-length encoded string and\n",
        "    returns the expanded version of that string.\n",
        "    >>> expand_encoded_string('B4')\n",
        "    'BBBB'\n",
        "    >>> expand_encoded_string('m1e2t1')\n",
        "    'meet'\n",
        "    >>> expand_encoded_string('B1o2k2e2p1e1r1!3')\n",
        "    'Bookkeeper!!!'\n",
        "    \"\"\"\n",
        "    return_list = []\n",
        "    for i in range(0,len(encoded)-1,2):\n",
        "      return_list.append(int(encoded[i+1])*encoded[i])\n",
        "    return ''.join(return_list)\n",
        "\n",
        "\n"
      ],
      "execution_count": null,
      "outputs": []
    },
    {
      "cell_type": "code",
      "metadata": {
        "id": "yBLm7-xmEiTi",
        "colab": {
          "base_uri": "https://localhost:8080/"
        },
        "outputId": "7f6c668a-353a-4adf-e79d-1d18ffc8b295"
      },
      "source": [
        "# Test your function here\n",
        "\n",
        "result = expand_encoded_string('B4')\n",
        "print(result)      # should print: BBBB\n",
        "\n",
        "result = expand_encoded_string('m1e2t1')\n",
        "print(result)      # should print: meet\n",
        "\n",
        "result = expand_encoded_string('B1o2k2e2p1e1r1!3')\n",
        "print(result)      # should print: Bookkeeper!!!"
      ],
      "execution_count": null,
      "outputs": [
        {
          "output_type": "stream",
          "name": "stdout",
          "text": [
            "BBBB\n",
            "meet\n",
            "Bookkeeper!!!\n"
          ]
        }
      ]
    },
    {
      "cell_type": "code",
      "metadata": {
        "id": "D5GRcKFd3_7r"
      },
      "source": [
        ""
      ],
      "execution_count": null,
      "outputs": []
    }
  ]
}