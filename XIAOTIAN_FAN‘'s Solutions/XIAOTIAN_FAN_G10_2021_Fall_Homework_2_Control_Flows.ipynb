{
  "nbformat": 4,
  "nbformat_minor": 0,
  "metadata": {
    "colab": {
      "name": "XIAOTIAN FAN - G10 2021 Fall Homework 2 - Control Flows.ipynb",
      "provenance": [],
      "collapsed_sections": [],
      "include_colab_link": true
    },
    "kernelspec": {
      "name": "python3",
      "display_name": "Python 3"
    },
    "language_info": {
      "name": "python"
    }
  },
  "cells": [
    {
      "cell_type": "markdown",
      "metadata": {
        "id": "view-in-github",
        "colab_type": "text"
      },
      "source": [
        "<a href=\"https://colab.research.google.com/github/XiaoTianFan/PingHe-PBL-AI-Solutions/blob/main/XIAOTIAN_FAN_G10_2021_Fall_Homework_2_Control_Flows.ipynb\" target=\"_parent\"><img src=\"https://colab.research.google.com/assets/colab-badge.svg\" alt=\"Open In Colab\"/></a>"
      ]
    },
    {
      "cell_type": "markdown",
      "metadata": {
        "id": "QYaOx6DzLtAP"
      },
      "source": [
        "# G10 2021 Fall Homework 2 - Control Flows (60 pts)\n",
        "\n",
        "\n",
        "---\n",
        "\n"
      ]
    },
    {
      "cell_type": "markdown",
      "metadata": {
        "id": "HDSiel0bL-a7"
      },
      "source": [
        "### Question 1 - Your First for-loop (10 pts)\n",
        "Write a for loop to print 3 lines of \"Hello\""
      ]
    },
    {
      "cell_type": "code",
      "metadata": {
        "id": "gyok58-ILmNd",
        "colab": {
          "base_uri": "https://localhost:8080/"
        },
        "outputId": "250fe784-d634-4ea7-acf6-28f5927e97e4"
      },
      "source": [
        "# Write your code here for Question 1\n",
        "for p in range(3):\n",
        "  print('Hello')\n"
      ],
      "execution_count": null,
      "outputs": [
        {
          "output_type": "stream",
          "name": "stdout",
          "text": [
            "Hello\n",
            "Hello\n",
            "Hello\n"
          ]
        }
      ]
    },
    {
      "cell_type": "markdown",
      "metadata": {
        "id": "gq0VC9KQQ3dC"
      },
      "source": [
        "### Question 2 - Your Second for-loop (10 pts)\n",
        "Write a program in the file liftoff.py that prints out the calls for a spaceship that is about to launch. Countdown the numbers from 10 to 1 and then write “Liftoff!” Your program should include a **for** loop using **range**. A sample run of the program is below.\n",
        "\n",
        "\n",
        "\n",
        "```\n",
        "10\n",
        "9\n",
        "8\n",
        "7\n",
        "6\n",
        "5\n",
        "4\n",
        "3\n",
        "2\n",
        "1\n",
        "Liftoff!\n",
        "```\n",
        "\n"
      ]
    },
    {
      "cell_type": "code",
      "metadata": {
        "id": "ywmtxbnUQ3dH",
        "colab": {
          "base_uri": "https://localhost:8080/"
        },
        "outputId": "ef461972-ef15-403d-ced9-74057e7da29f"
      },
      "source": [
        "# Write your code here for Question 2\n",
        "for i in range(10,0,-1):\n",
        "  print(i,'\\n')\n",
        "  if i == 1:\n",
        "    print('Liftoff!')\n",
        "\n"
      ],
      "execution_count": null,
      "outputs": [
        {
          "output_type": "stream",
          "name": "stdout",
          "text": [
            "10 \n",
            "\n",
            "9 \n",
            "\n",
            "8 \n",
            "\n",
            "7 \n",
            "\n",
            "6 \n",
            "\n",
            "5 \n",
            "\n",
            "4 \n",
            "\n",
            "3 \n",
            "\n",
            "2 \n",
            "\n",
            "1 \n",
            "\n",
            "Liftoff!\n"
          ]
        }
      ]
    },
    {
      "cell_type": "markdown",
      "metadata": {
        "id": "JZO-15iZLpnh"
      },
      "source": [
        "### Question 3 - Your Third for-loop (10 pts)\n",
        "Write a for loop to print all multiples of 7 from 1, 2, ..., 100"
      ]
    },
    {
      "cell_type": "code",
      "metadata": {
        "id": "nA-fuMaVLvQ4",
        "colab": {
          "base_uri": "https://localhost:8080/"
        },
        "outputId": "8843ba39-0429-4104-b214-725aee7c1251"
      },
      "source": [
        "# Write your code here for Question 3\n",
        "for i in range(1,101):\n",
        "  if (i % 7) == 0:\n",
        "    print(i)\n",
        "\n"
      ],
      "execution_count": null,
      "outputs": [
        {
          "output_type": "stream",
          "name": "stdout",
          "text": [
            "7\n",
            "14\n",
            "21\n",
            "28\n",
            "35\n",
            "42\n",
            "49\n",
            "56\n",
            "63\n",
            "70\n",
            "77\n",
            "84\n",
            "91\n",
            "98\n"
          ]
        }
      ]
    },
    {
      "cell_type": "markdown",
      "metadata": {
        "id": "6P_ebmPsPXvp"
      },
      "source": [
        "### Question 4 - If statements (10 pts)\n",
        "Write a program that:\n",
        "* Ask the user to input an integer (you can assume that the user actually enters an integer)\n",
        "* Check whether the integer is\n",
        "    - positive\n",
        "    - zero\n",
        "    - negative\n",
        "* Print the result back to the user"
      ]
    },
    {
      "cell_type": "code",
      "metadata": {
        "id": "zzlY7dbaPiuu",
        "colab": {
          "base_uri": "https://localhost:8080/"
        },
        "outputId": "827008a0-68e4-48f4-85ef-bc4e9f31efb7"
      },
      "source": [
        "# Write your code here for Question 4\n",
        "while 1:\n",
        "  num = int(input('Your number is? \\n'))\n",
        "  if num == 0:\n",
        "    print('The number is zero')\n",
        "  elif num > 0:\n",
        "    print('The number is positive')\n",
        "  else:\n",
        "    print('The number is negative')\n",
        "  if input('press \"enter\" to continue, anything else to exit') == '':\n",
        "    continue\n",
        "  else:\n",
        "    break\n",
        "\n"
      ],
      "execution_count": null,
      "outputs": [
        {
          "name": "stdout",
          "output_type": "stream",
          "text": [
            "Your number is? \n",
            "-123\n",
            "The number is negative\n",
            "press \"enter\" to continue, anything else to exit\n",
            "Your number is? \n",
            "-123\n",
            "The number is negative\n",
            "press \"enter\" to continue, anything else to exita\n"
          ]
        }
      ]
    },
    {
      "cell_type": "markdown",
      "metadata": {
        "id": "sdKeSay2RiCW"
      },
      "source": [
        "### Question 5 - Moon Weight (10 pts)\n",
        "Humans first landed on the moon on July 20, 1969. People have often wondered how much they would weigh if they were on the moon. It turns out that on the moon, you would weigh **16.5%** of your weight on Earth.\n",
        "\n",
        "Write a program that asks the user for their weight (you can assume is a real-valued input is given by the user) and prints out their weight on the moon. If the user enters a negative value (yes, they’re being mean and trying to break your program), you should just print out that weights can’t be negative. Remember when writing your solution, that it’s good programming style to use **constants** where appropriate. Two sample runs of the program are shown below (user input is in *italics*).\n",
        "\n",
        "Sample run 1 (note the imprecision of floating-point numbers in the answer)\n",
        "\n",
        "```\n",
        "Enter your weight: 165.3\n",
        "Your weight on the moon is 27.274500000000003\n",
        "```\n",
        "\n",
        "Sample run 2\n",
        "\n",
        "```\n",
        "Enter your weight: -13\n",
        "Sorry, you can't have a negative weight.\n",
        "```\n",
        "\n",
        "\n",
        "\n"
      ]
    },
    {
      "cell_type": "code",
      "metadata": {
        "id": "kYirGKnqRiCX"
      },
      "source": [
        "# Write your code here for Question 5\n",
        "def your_weight_on_the_moon(weight):\n",
        "  if weight < 0:\n",
        "    return 'Sorry, you can\\'t have a negative weight.'\n",
        "  else:\n",
        "    return 'Your weight on the moon is %f' % (weight*0.1653)\n",
        "\n",
        "while 1:\n",
        "  in_weight = float(input('Enter your weight: '))\n",
        "  print(your_weight_on_the_moon(in_weight))\n",
        "  if input('press \"enter\" to continue, anything else to exit') == '':\n",
        "    continue\n",
        "  else:\n",
        "    break\n"
      ],
      "execution_count": null,
      "outputs": []
    },
    {
      "cell_type": "markdown",
      "metadata": {
        "id": "rwwXupT2SoYK"
      },
      "source": [
        "### Question 6 - Sentinel Loops (10 pts)\n",
        "**Sentinel:** A value that signals the end of user input.\n",
        "\n",
        "Write a program that prompts the user for numbers until users type -1, then output the total of the numbers.\n",
        "In this case, -1 is the **sentinel value**.\n",
        "\n",
        "Sample run 1\n",
        "\n",
        "```\n",
        "Type a number: 10\n",
        "Type a number: 20\n",
        "Type a number: 30\n",
        "Type a number: -1\n",
        "total is 60\n",
        "\n",
        "```\n",
        "\n",
        "\n",
        "\n"
      ]
    },
    {
      "cell_type": "code",
      "metadata": {
        "id": "6xIWkWpiSoYO"
      },
      "source": [
        "# Write your code here for Question 4\n",
        "num = 0.0\n",
        "while 1:\n",
        "  in_num = float(input('Type a number: '))\n",
        "  if in_num != -1:\n",
        "    num += in_num\n",
        "  else:\n",
        "    print('total is %f' % num)\n",
        "    break\n"
      ],
      "execution_count": null,
      "outputs": []
    },
    {
      "cell_type": "code",
      "metadata": {
        "id": "DVfGwj81HPUE"
      },
      "source": [
        ""
      ],
      "execution_count": null,
      "outputs": []
    }
  ]
}